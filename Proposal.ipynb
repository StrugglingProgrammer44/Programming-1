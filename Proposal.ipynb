{
  "nbformat": 4,
  "nbformat_minor": 0,
  "metadata": {
    "colab": {
      "name": "Proposal.ipynb",
      "provenance": [],
      "authorship_tag": "ABX9TyNrMGr/MsYEpEF8uVC/W0GU",
      "include_colab_link": true
    },
    "kernelspec": {
      "name": "python3",
      "display_name": "Python 3"
    },
    "language_info": {
      "name": "python"
    }
  },
  "cells": [
    {
      "cell_type": "markdown",
      "metadata": {
        "id": "view-in-github",
        "colab_type": "text"
      },
      "source": [
        "<a href=\"https://colab.research.google.com/github/StrugglingProgrammer44/Programming-1/blob/main/Proposal.ipynb\" target=\"_parent\"><img src=\"https://colab.research.google.com/assets/colab-badge.svg\" alt=\"Open In Colab\"/></a>"
      ]
    },
    {
      "cell_type": "markdown",
      "source": [
        "#**Final Project Proposal**\n",
        "##Introduction\n",
        "Not all sports are as difficult as others to play which makes the discussion of which sports are actually the toughest. Most would say that their sport is either close to easier because they're more skilled in it or that theirs is more challenging because they know the actual difficulties it includes. There are many factors to look at when making the distinction that one sport is objectively more challenging. These factors include how much thinking, cardio, strength, and many others are required to have success in that sport.\n",
        "Studies have been made with good portions including bias from sports analysts who may cover specific sports more than others.\n",
        "\n",
        "To really get a feel for which sports may be more difficult to become strong in then some would say one would need to partake in the various sports to understand tje full experience and challenges. However, scientists have also done studies on athletes before and after they perform to determine how much that person had to endure to do well in that sport. As well as in competition there are also studies done outside with live motion tests and computerized tests and well.\n",
        "\n",
        "\n"
      ],
      "metadata": {
        "id": "sxi_di9ryzRx"
      }
    },
    {
      "cell_type": "markdown",
      "source": [
        "##Research Question and Data\n",
        "I am researching to try and see which sport is the most challenging by the number of successful athletes in each sport and if these results line up equally with the statistical research done on athletes determing the sports difficulty in that way.\n",
        "\n",
        "Will the research done to asses the difficulty in a sport prove to be true with how popular the sport is and how many make it professional or can realize success in their sport.\n",
        "\n",
        "This can be helpful to young adults or maybe younger when they are attemptting to select a sport they would like to become a professiomal in. Also if a less agile and athletic person wants to try a new sport they can asses which sport would be suitable based on their level of ability.\n",
        "\n",
        "I am using data from multiple sources including:\n",
        "\n",
        "* A data set determing different factors im multiple sports and how they affect them - https://github.com/StrugglingProgrammer44/Programming-1/blob/main/toughestsport.xlsx\n",
        "\n",
        "* A data set determing the most popular sports in America based on multiple factors - https://github.com/StrugglingProgrammer44/Programming-1/blob/main/Data.xlsx\n",
        "\n",
        "##Approach\n",
        "I will be putting this data into a database to show the different relationships between the variables in the sport and the level of resulting success. The goal will be to determine if certain variables such as agility, strength, and more are truly what make a sport most challenging and which sports seem to be based on success rate."
      ],
      "metadata": {
        "id": "GYPt9uoV5v-j"
      }
    }
  ]
}