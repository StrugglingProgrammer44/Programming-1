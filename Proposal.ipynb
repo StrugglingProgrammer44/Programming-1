{
  "nbformat": 4,
  "nbformat_minor": 0,
  "metadata": {
    "colab": {
      "name": "Proposal.ipynb",
      "provenance": [],
      "include_colab_link": true
    },
    "kernelspec": {
      "name": "python3",
      "display_name": "Python 3"
    },
    "language_info": {
      "name": "python"
    }
  },
  "cells": [
    {
      "cell_type": "markdown",
      "metadata": {
        "id": "view-in-github",
        "colab_type": "text"
      },
      "source": [
        "<a href=\"https://colab.research.google.com/github/StrugglingProgrammer44/Programming-1/blob/main/Proposal.ipynb\" target=\"_parent\"><img src=\"https://colab.research.google.com/assets/colab-badge.svg\" alt=\"Open In Colab\"/></a>"
      ]
    },
    {
      "cell_type": "markdown",
      "source": [
        "#**Final Project Proposal**\n",
        "##Introduction\n",
        "Home advantage is fought for throughout many professional sports organizations. This means that each team ends in a certain rsnking based upon how many games they have won or lost that year. When the playoff teams are set at the end of the year and the playoffs begin, the higher ranked teams will have either more games at their home stadium or the only game will be there. This is said to have huge impacts on the outcome of many games in history, but what makes where the game happens so important?\n",
        "\n",
        "Many factors are involved when teams come together and although a team may lose a game at an away stadium, is that the cause of it or is that just a coincidence because any team has a chance to win? This is a big topic within sports as it can influence sports betting, team locations, and much more. Factors such as home town fans, less traveling to and from the stadium, and knowledge of the stadium are key to the advantages for the home team.\n",
        "\n",
        "\n"
      ],
      "metadata": {
        "id": "sxi_di9ryzRx"
      }
    },
    {
      "cell_type": "markdown",
      "source": [
        "##Research Question and Data\n",
        "I am researching past professional sports playoffs to determine if home advantage is as big of a factor as it seems to be. My main question is, do teams with home advantage have a better history of being victorious?\n",
        "\n",
        "This can help with team strategies when coming close to playoff time by knowing how important it is to earn that home advantage or if they should wait until playoff time to fully give their efforts instead of wasting useful energy before. This can also be a factor in sports betting so gamblers don't change their decision on a game due to home advantage if it is not as important as we had thought.\n",
        "\n",
        "I am using data from a csv file that will be imported from github named game.csv in NHL Game Data:\n",
        "\n",
        "(https://www.kaggle.com/code/kerneler/starter-nhl-game-data-72c5148f-5/data?select=game.csv)\n",
        "\n",
        "##Approach\n",
        "I am using National Hockey League data to find how many games are won at home in playoffs and if these games were won due to being at home. I am going to take this data and check for how many goals the home team had versus the away team and check for other factors that may have caused the outcome more than the location of the game. Lastly, I will compare the games in the regular season versus the playoffs to see if there is more of an advantage at home during the playoffs."
      ],
      "metadata": {
        "id": "GYPt9uoV5v-j"
      }
    }
  ]
}