{
  "nbformat": 4,
  "nbformat_minor": 0,
  "metadata": {
    "colab": {
      "name": "BCS 109.ipynb",
      "provenance": [],
      "collapsed_sections": [],
      "toc_visible": true,
      "authorship_tag": "ABX9TyOe0LB/Hu5Mqs37qvWweIRz",
      "include_colab_link": true
    },
    "kernelspec": {
      "name": "python3",
      "display_name": "Python 3"
    },
    "language_info": {
      "name": "python"
    }
  },
  "cells": [
    {
      "cell_type": "markdown",
      "metadata": {
        "id": "view-in-github",
        "colab_type": "text"
      },
      "source": [
        "<a href=\"https://colab.research.google.com/github/StrugglingProgrammer44/Programming-1/blob/main/BCS_109.ipynb\" target=\"_parent\"><img src=\"https://colab.research.google.com/assets/colab-badge.svg\" alt=\"Open In Colab\"/></a>"
      ]
    },
    {
      "cell_type": "markdown",
      "source": [
        "## HW 4 Question 1"
      ],
      "metadata": {
        "id": "AG-0teqVW8II"
      }
    },
    {
      "cell_type": "code",
      "source": [
        "amount = 0\n",
        "discount = 0\n",
        "total_price = 0\n",
        "item_price = 99\n",
        "\n",
        "#Gather number of packages amount\n",
        "amount = float(input(\"How many would you like to purchase?\"))\n",
        "\n",
        "if (amount >= 10 and amount <= 19):\n",
        "  discount = .1\n",
        "elif (amount >=20 and amount <= 49):\n",
        "  discount = .2\n",
        "elif (amount >= 50 and amount <=49):\n",
        "  discount = .3\n",
        "elif (amount >=100):\n",
        "  discount = .4\n",
        "\n",
        "#print the discount\n",
        "print(f\"The discount is {discount}\")\n",
        "\n",
        "#calculate and print the total price\n",
        "total_price = amount*item_price*(1-discount)\n",
        "print(f\"The total price is ${total_price:,.2f}\")"
      ],
      "metadata": {
        "colab": {
          "base_uri": "https://localhost:8080/"
        },
        "id": "3S-OyBgoWwZx",
        "outputId": "d7d112ff-d96d-4fcb-bc8e-5998bd28e4d9"
      },
      "execution_count": null,
      "outputs": [
        {
          "output_type": "stream",
          "name": "stdout",
          "text": [
            "How many would you like to purchase?20\n",
            "The discount is 0.2\n",
            "The total price is $1,584.00\n"
          ]
        }
      ]
    },
    {
      "cell_type": "markdown",
      "source": [
        "## HW 4 - Question 2"
      ],
      "metadata": {
        "id": "Oy0JirOjZiRi"
      }
    },
    {
      "cell_type": "code",
      "source": [
        "weight = 0\n",
        "rate_per_pound = 0\n",
        "\n",
        "weight = float(input(\"How much does your package weigh? \"))\n",
        "\n",
        "if(weight <=2):\n",
        "  rate_per_pound = 1.5\n",
        "if(weight >2 and weight <= 6):\n",
        "  rate_per_pound = 3\n",
        "if(weight >6 and weight <=10):\n",
        "  rate_per_pund = 4\n",
        "if(weight > 10):\n",
        "  rate_per_pound = 4.75\n",
        "\n",
        "print(f\"The rate is ${rate_per_pound:.2f}\")"
      ],
      "metadata": {
        "colab": {
          "base_uri": "https://localhost:8080/"
        },
        "id": "gh68V31bZoH3",
        "outputId": "04c79f15-7b00-4340-c6a2-fd325858fafb"
      },
      "execution_count": null,
      "outputs": [
        {
          "output_type": "stream",
          "name": "stdout",
          "text": [
            "How much does your package weigh? 5\n",
            "The rate is $3.00\n"
          ]
        }
      ]
    }
  ]
}