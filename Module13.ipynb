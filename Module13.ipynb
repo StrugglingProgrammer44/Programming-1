{
  "nbformat": 4,
  "nbformat_minor": 0,
  "metadata": {
    "colab": {
      "name": "Module13.ipynb",
      "provenance": [],
      "collapsed_sections": [],
      "authorship_tag": "ABX9TyNISOKNACXdeyitVHXSjlXu",
      "include_colab_link": true
    },
    "kernelspec": {
      "name": "python3",
      "display_name": "Python 3"
    },
    "language_info": {
      "name": "python"
    }
  },
  "cells": [
    {
      "cell_type": "markdown",
      "metadata": {
        "id": "view-in-github",
        "colab_type": "text"
      },
      "source": [
        "<a href=\"https://colab.research.google.com/github/StrugglingProgrammer44/Programming-1/blob/main/Module13.ipynb\" target=\"_parent\"><img src=\"https://colab.research.google.com/assets/colab-badge.svg\" alt=\"Open In Colab\"/></a>"
      ]
    },
    {
      "cell_type": "markdown",
      "source": [
        "# Module 13\n",
        "\n",
        "1. Accuracy is how many tests came back correct out of the total tested. Precision is the amount of positive tests that came back correct out of all actual positives. Can you get the same result every time. Recall is how many positives tests are actually positive. With people going to jail you would prefer accuracy over precision so you aren't sending innocent people to jail.\n",
        "   \n",
        "2. A confusion matrix is used to decifer whether values are true or false positives and negatives. It assists in computer learning by calculating the number of false positives or negatives and seeing where it went wrong.\n",
        "3.Accuracy - print('Accuracy: %.3f' % accuracy_score(y_test, y_pred))\n",
        "\n",
        "  Precision - print('Precision: %.3f' % precision_score(y_test, y_pred))\n",
        "\n",
        "  Recall - print('Recall: %.3f' % recall_score(y_test, y_pred))\n",
        "\n",
        "4. If a test has too many errors and a lot of students fail versus if the test has a lot of errors and students pass because of it. The students would only have a problem if the errors caused them to fail instead of do better.\n",
        "5. train.test,split() is used for determing the performance of machine learning systems by comparing them to the predicted model. You would split the data so there is no bias and you can see fair results.\n",
        "6. Bias is how much fairness is in the testing to avoid having certain results based on how the result is wanted to be returned. Variance is how big of a set you are searching because if you allow for too many variables then you wouldn't have a very accurate and precise result."
      ],
      "metadata": {
        "id": "yOx4tF7Sphx6"
      }
    }
  ]
}