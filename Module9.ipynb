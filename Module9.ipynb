{
  "nbformat": 4,
  "nbformat_minor": 0,
  "metadata": {
    "colab": {
      "name": "Untitled7.ipynb",
      "provenance": [],
      "authorship_tag": "ABX9TyNRigC8iHPO/LXUNTCDMdgp",
      "include_colab_link": true
    },
    "kernelspec": {
      "name": "python3",
      "display_name": "Python 3"
    },
    "language_info": {
      "name": "python"
    }
  },
  "cells": [
    {
      "cell_type": "markdown",
      "metadata": {
        "id": "view-in-github",
        "colab_type": "text"
      },
      "source": [
        "<a href=\"https://colab.research.google.com/github/StrugglingProgrammer44/Programming-1/blob/main/Module9.ipynb\" target=\"_parent\"><img src=\"https://colab.research.google.com/assets/colab-badge.svg\" alt=\"Open In Colab\"/></a>"
      ]
    },
    {
      "cell_type": "markdown",
      "source": [
        "## **HW #9**"
      ],
      "metadata": {
        "id": "EYt4fqu8AnFQ"
      }
    },
    {
      "cell_type": "code",
      "execution_count": 1,
      "metadata": {
        "colab": {
          "base_uri": "https://localhost:8080/",
          "height": 130
        },
        "id": "tUqeeTPxAjSS",
        "outputId": "10b71c66-634a-4783-ac19-9bf1fa7862d1"
      },
      "outputs": [
        {
          "output_type": "error",
          "ename": "SyntaxError",
          "evalue": "ignored",
          "traceback": [
            "\u001b[0;36m  File \u001b[0;32m\"<ipython-input-1-f5810ab1fbf9>\"\u001b[0;36m, line \u001b[0;32m34\u001b[0m\n\u001b[0;31m    list1[]\u001b[0m\n\u001b[0m          ^\u001b[0m\n\u001b[0;31mSyntaxError\u001b[0m\u001b[0;31m:\u001b[0m invalid syntax\n"
          ]
        }
      ],
      "source": [
        "def max1(nums):\n",
        "  maximum = 0\n",
        "  for num in nums:\n",
        "    if num > maximum:\n",
        "      maximum = num\n",
        "  return maximum\n",
        "\n",
        "def min1(nums):\n",
        "  minimum = 0\n",
        "  for num in nums:\n",
        "    if num > minimum:\n",
        "      minimum = num\n",
        "  return minimum\n",
        "\n",
        "def average(nums):\n",
        "  num = 0\n",
        "  for x in nums:\n",
        "    num = num + x\n",
        "  ave = num / len(nums)\n",
        "  return ave\n",
        "\n",
        "def st_dev(nums):\n",
        "  import math\n",
        "  var = math.variance(nums)\n",
        "  std_dev = math.sqrt(var)\n",
        "  return std_dev\n",
        "\n",
        "def geo_ave(nums):\n",
        "  nums = list(input(\"Please enter numbers seperated by commas and I will return the geometric average: \"))\n",
        "  geometric_ave = (nums)**(1/len(nums))\n",
        "  return geometric_ave\n",
        "\n",
        "def area_of_shape():\n",
        "  shape = input(\"tell me what shape you would like me to tell you the area of: \")\n",
        "  area = 0\n",
        "  pie = 3.14\n",
        "  if shape == \"Square\":\n",
        "    side = int(input(\"Enter the value of the side: \"))\n",
        "    area = area + (side ** 2)\n",
        "  elif shape == \"Circle\":\n",
        "    radius = int(input(\"Enter the radius of the circle: \"))\n",
        "    area = area + (2 * pie * radius)\n",
        "  elif shape == \"Triangle\":\n",
        "    base = int(input(\"Please enter the value of the base: \"))\n",
        "    height = int(input(\"Enter the value of the height of the triangle: \"))\n",
        "    area = area + ((1/2) * base * height)\n",
        "  else:\n",
        "    print(\"Please enter a valid shape\")\n",
        "  return area\n",
        "\n",
        "def list_doubled(nums):\n",
        "  list1 = []\n",
        "  nums = list(input(\"Please enter 3 numbers, seperated by commas: \"))\n",
        "  for num in nums:\n",
        "    x = num * 2\n",
        "    x.append(list1)\n",
        "  return list1\n",
        "\n",
        "\n",
        "def list_concatenated(list1, list2):\n",
        "  list3 = []\n",
        "  list1 = list(input(\"Please enter a list of numbers seperated by commas\"))\n",
        "  list2 = list(input(\"Please enter another list of numbers seperated by commmas\"))\n",
        "  for num1 in list1:\n",
        "    for num2 in list2:\n",
        "      num3 = num1 + num2 \n",
        "      num3.append(list3)\n",
        "\n",
        "def primes(nums):\n",
        "  counter = 0\n",
        "  for n in range(2, nums+1):\n",
        "      prime = True\n",
        "      for i in range(2, n):\n",
        "        if(n%i == 0):\n",
        "          prime = False\n",
        "          break\n",
        "      if prime:\n",
        "        counter += 1\n",
        "  return counter\n",
        "\n",
        "\n",
        "def calculation(num1, num2):\n",
        "  num1 = int(input(\"Please enter a number greater than 0: \")\n",
        "  num2 = int(input(\"Please enter another number greater than 0: \"))\n",
        "  mult = num1 * num2\n",
        "  div = num1 / num2\n",
        "  return(mult, div)\n",
        "\n",
        "nums = [3, 5]\n",
        "max = 999\n",
        "num = 0\n",
        "for x in nums:\n",
        "  for i in range(1, max):\n",
        "    if x*i < max:\n",
        "      num = += x*i\n",
        "print(num)\n",
        "\n",
        "num = 0\n",
        "for i in range(0, max):\n",
        "  if i%3 == 0 or i%5 == 0:\n",
        "    num += i\n",
        "print(num)\n",
        "\n",
        "\n",
        "def even_fibonacci_sum(limit):\n",
        "  if (limit < 2):\n",
        "    return 0\n",
        "  num1 = 0\n",
        "  num2 = 2\n",
        "  sums = num1 + num2\n",
        "  while (num2 <= limit):\n",
        "    num3 = 4 * num2 + num1\n",
        "    if (num3 > limit):\n",
        "      break\n",
        "    num1 = num2\n",
        "    num2 = num3\n",
        "    sums = sums + num2\n",
        "  return sums\n",
        "limit = 500\n",
        "print(even_fibonacci_sum(limit))"
      ]
    }
  ]
}