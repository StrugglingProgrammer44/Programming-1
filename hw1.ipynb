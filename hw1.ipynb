{
  "nbformat": 4,
  "nbformat_minor": 0,
  "metadata": {
    "colab": {
      "name": "Untitled0.ipynb",
      "provenance": []
    },
    "kernelspec": {
      "name": "python3",
      "display_name": "Python 3"
    },
    "language_info": {
      "name": "python"
    }
  },
  "cells": [
    {
      "cell_type": "markdown",
      "source": [
        ""
      ],
      "metadata": {
        "id": "53Gute1w7NmB"
      }
    },
    {
      "cell_type": "markdown",
      "source": [
        "# HW 2\n",
        "## Jonathon Capelluto\n",
        "### Professor Matthew Fried\n",
        "\n",
        "**Hello!**\n",
        "~My name is Jonathon Capelluto~\n",
        "*One interesting thing about me is that I visited the hockey hall of fame in Canada.*\n"
      ],
      "metadata": {
        "id": "bhr9KfKU7UF7"
      }
    }
  ]
}