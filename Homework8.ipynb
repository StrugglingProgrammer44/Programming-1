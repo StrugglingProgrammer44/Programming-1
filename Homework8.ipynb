{
  "nbformat": 4,
  "nbformat_minor": 0,
  "metadata": {
    "colab": {
      "name": "Untitled6.ipynb",
      "provenance": [],
      "authorship_tag": "ABX9TyOSEibBUbR+8GzD8d6Kngtw",
      "include_colab_link": true
    },
    "kernelspec": {
      "name": "python3",
      "display_name": "Python 3"
    },
    "language_info": {
      "name": "python"
    }
  },
  "cells": [
    {
      "cell_type": "markdown",
      "metadata": {
        "id": "view-in-github",
        "colab_type": "text"
      },
      "source": [
        "<a href=\"https://colab.research.google.com/github/StrugglingProgrammer44/Programming-1/blob/main/Homework8.ipynb\" target=\"_parent\"><img src=\"https://colab.research.google.com/assets/colab-badge.svg\" alt=\"Open In Colab\"/></a>"
      ]
    },
    {
      "cell_type": "markdown",
      "source": [
        "# **HW 8**"
      ],
      "metadata": {
        "id": "ttt-laE2WRDF"
      }
    },
    {
      "cell_type": "markdown",
      "source": [
        "### Question 1"
      ],
      "metadata": {
        "id": "k_gtZjujc14k"
      }
    },
    {
      "cell_type": "code",
      "source": [
        "def avg_of_2(x,y):\n",
        "  return (x+y)/2\n",
        "\n",
        "num_one = 2\n",
        "num_two = 5\n",
        "print(avg_of_2(num_one,num_two))"
      ],
      "metadata": {
        "colab": {
          "base_uri": "https://localhost:8080/"
        },
        "id": "axtCg_8vWPg9",
        "outputId": "e4ea7a45-63e3-4ce3-d642-c3269eda16ab"
      },
      "execution_count": 1,
      "outputs": [
        {
          "output_type": "stream",
          "name": "stdout",
          "text": [
            "3.5\n"
          ]
        }
      ]
    },
    {
      "cell_type": "code",
      "source": [
        "def avg_of_2(x,y):\n",
        "  return (x+y)/2\n",
        "\n",
        "def avg_of_list(myNums):\n",
        "  total = 0\n",
        "  for i in myNums:\n",
        "    total = total + 1\n",
        "  return total/len(myNums)\n",
        "\n",
        "num_one = 2\n",
        "num_two = 5\n",
        "print(avg_of_2(num_one,num_two))\n",
        "\n",
        "z = [1,2,3,4,5,6,7]\n",
        "print(avg_of_list(z))"
      ],
      "metadata": {
        "colab": {
          "base_uri": "https://localhost:8080/"
        },
        "id": "GWpC5dezW9Hl",
        "outputId": "d48b4c7a-3820-4800-ae06-09efe33d1648"
      },
      "execution_count": 4,
      "outputs": [
        {
          "output_type": "stream",
          "name": "stdout",
          "text": [
            "3.5\n",
            "1.0\n"
          ]
        }
      ]
    },
    {
      "cell_type": "code",
      "source": [
        "##avg of 2 numbers\n",
        "import numpy as np\n",
        "\n",
        "#avg of a list of numbers\n",
        "def avg_of_2(x,y):\n",
        "  return (x+y)/2\n",
        "\n",
        "def avg_of_list(myNums):\n",
        "  total = 0\n",
        "  for i in myNums:\n",
        "    total = total + 1\n",
        "  return total/len(myNums)\n",
        "\n",
        "def expectedValue1(info, weights):\n",
        "  return (info @ weights)\n",
        "\n",
        "\n",
        "num_one = 2\n",
        "num_two = 5\n",
        "print(avg_of_2(num_one,num_two))\n",
        "\n",
        "z = [1,2,3,4,5,6,7]\n",
        "print(avg_of_list(z))\n",
        "info = np.array([2,3,4,5,6])\n",
        "weights = np.array([.1,.15,.07,.32,.36])\n",
        "print(expectedValue1(info,weights))"
      ],
      "metadata": {
        "colab": {
          "base_uri": "https://localhost:8080/"
        },
        "id": "wAY1fkNLX7r9",
        "outputId": "6bec2a3e-92ef-4bb4-a7d7-cd1556a01fba"
      },
      "execution_count": 5,
      "outputs": [
        {
          "output_type": "stream",
          "name": "stdout",
          "text": [
            "3.5\n",
            "1.0\n",
            "4.69\n"
          ]
        }
      ]
    },
    {
      "cell_type": "markdown",
      "source": [
        "### Question 2"
      ],
      "metadata": {
        "id": "c9V2fM9Cc8q6"
      }
    },
    {
      "cell_type": "code",
      "source": [
        "#sum from a to b\n",
        "def sumRange(a, b):\n",
        "  total = 0\n",
        "  for i in range(a,b+1):\n",
        "    total = total + i\n",
        "  return total\n",
        "\n",
        "print(sumRange(5,8))"
      ],
      "metadata": {
        "colab": {
          "base_uri": "https://localhost:8080/"
        },
        "id": "NFdJkY5xaRGE",
        "outputId": "86e7cb28-a6e8-4f42-f4e8-be23c1555bec"
      },
      "execution_count": 8,
      "outputs": [
        {
          "output_type": "stream",
          "name": "stdout",
          "text": [
            "26\n"
          ]
        }
      ]
    },
    {
      "cell_type": "code",
      "source": [
        "#output the triangle numbers, or squares, or pentogonal numbers\n",
        "def shapeNumbers(shape):\n",
        "  if (shape == \"triangle\"):\n",
        "    skipVal = 1\n",
        "  elif(shape == \"square\"):\n",
        "    skipVal = 2\n",
        "  elif(shape == \"pentagon\"):\n",
        "    skipVal = 3\n",
        "  \n",
        "  total = 0\n",
        "  for i in range(1,100,skipVal):\n",
        "    total = total + i\n",
        "    print(total,end = \" \")\n",
        "  print()\n",
        "\n",
        "shapeNumbers(\"triangle\")\n",
        "shapeNumbers(\"square\")\n",
        "shapeNumbers(\"pentagon\")"
      ],
      "metadata": {
        "colab": {
          "base_uri": "https://localhost:8080/"
        },
        "id": "PjVnwfy4bIua",
        "outputId": "59fd079c-ef56-437b-bc14-c3edb7185592"
      },
      "execution_count": 11,
      "outputs": [
        {
          "output_type": "stream",
          "name": "stdout",
          "text": [
            "1 3 6 10 15 21 28 36 45 55 66 78 91 105 120 136 153 171 190 210 231 253 276 300 325 351 378 406 435 465 496 528 561 595 630 666 703 741 780 820 861 903 946 990 1035 1081 1128 1176 1225 1275 1326 1378 1431 1485 1540 1596 1653 1711 1770 1830 1891 1953 2016 2080 2145 2211 2278 2346 2415 2485 2556 2628 2701 2775 2850 2926 3003 3081 3160 3240 3321 3403 3486 3570 3655 3741 3828 3916 4005 4095 4186 4278 4371 4465 4560 4656 4753 4851 4950 \n",
            "1 4 9 16 25 36 49 64 81 100 121 144 169 196 225 256 289 324 361 400 441 484 529 576 625 676 729 784 841 900 961 1024 1089 1156 1225 1296 1369 1444 1521 1600 1681 1764 1849 1936 2025 2116 2209 2304 2401 2500 \n",
            "1 5 12 22 35 51 70 92 117 145 176 210 247 287 330 376 425 477 532 590 651 715 782 852 925 1001 1080 1162 1247 1335 1426 1520 1617 \n"
          ]
        }
      ]
    },
    {
      "cell_type": "markdown",
      "source": [
        "### Question 3"
      ],
      "metadata": {
        "id": "CpNSfDTkc_si"
      }
    },
    {
      "cell_type": "code",
      "source": [
        "#return total cost after total, percentage off, and tax\n",
        "def afterTax(item_cost,tax):\n",
        "  afterTax = item_cost + (item_cost * tax)\n",
        "  return afterTax\n",
        "\n",
        "def total(afterTax, percent_off):\n",
        "  total = afterTax - (afterTax * percent_off)\n",
        "  return total\n",
        "\n",
        "item_cost = 30\n",
        "tax = .08\n",
        "percent_off = .05\n",
        "\n",
        "print(total)  "
      ],
      "metadata": {
        "colab": {
          "base_uri": "https://localhost:8080/"
        },
        "id": "LGcinc9CdE3n",
        "outputId": "c0db4361-cac4-4b82-8c98-b26603a6b912"
      },
      "execution_count": 33,
      "outputs": [
        {
          "output_type": "stream",
          "name": "stdout",
          "text": [
            "<function total at 0x7f9c4fab8440>\n"
          ]
        }
      ]
    },
    {
      "cell_type": "markdown",
      "source": [
        "### Question 4"
      ],
      "metadata": {
        "id": "a9T4r7dPeaAo"
      }
    },
    {
      "cell_type": "code",
      "source": [
        "#list of primes below some n\n",
        "#first create a function that tells you if a number is prime\n",
        "def isPrime(number):\n",
        "  for i in range(2,number):\n",
        "    if(number%i == 0):\n",
        "      return False\n",
        "  return True\n",
        "\n",
        "def listPrimes(number):\n",
        "  for i in range(2,number+1):\n",
        "    if(isPrime(i)):\n",
        "      print(i, end = \" \")\n",
        "\n",
        "listPrimes(100)"
      ],
      "metadata": {
        "colab": {
          "base_uri": "https://localhost:8080/"
        },
        "id": "SO0Z8QpnedGA",
        "outputId": "cb68b112-129b-4c50-d381-91f946f7a47a"
      },
      "execution_count": 15,
      "outputs": [
        {
          "output_type": "stream",
          "name": "stdout",
          "text": [
            "2 3 5 7 11 13 17 19 23 29 31 37 41 43 47 53 59 61 67 71 73 79 83 89 97 "
          ]
        }
      ]
    },
    {
      "cell_type": "markdown",
      "source": [
        "### Question 5"
      ],
      "metadata": {
        "id": "SAwHRGpGfvxQ"
      }
    },
    {
      "cell_type": "code",
      "source": [
        "#list all numbers below some n that a coprime to it\n",
        "#coprimes mean that a and b only share 1 as a divisor\n",
        "#12 only shares 1 with 1, 5, 7, and 11\n",
        "#break down the problem into multiple functions\n",
        "def isCoprime(a,b):\n",
        "  #make sure a < b\n",
        "  if(a > b):\n",
        "    holder = a\n",
        "    a = b\n",
        "    b = holder\n",
        "\n",
        "  for i in range(2,a+1):\n",
        "    if(a%i == 0 and b%i == 0):\n",
        "      return False\n",
        "  return True\n",
        "\n",
        "def listCoprimes(number):\n",
        "  for i in range(number):\n",
        "    if (isCoprime(i,number)):\n",
        "      print(i, end = \" \")\n",
        "\n",
        "listCoprimes(12)"
      ],
      "metadata": {
        "colab": {
          "base_uri": "https://localhost:8080/"
        },
        "id": "xSJw0Cbffx0f",
        "outputId": "e1b01054-4224-4f54-838e-8b94b221e6df"
      },
      "execution_count": 21,
      "outputs": [
        {
          "output_type": "stream",
          "name": "stdout",
          "text": [
            "0 1 5 7 11 "
          ]
        }
      ]
    },
    {
      "cell_type": "markdown",
      "source": [
        "### Question 6"
      ],
      "metadata": {
        "id": "rroCGiNyikVv"
      }
    },
    {
      "cell_type": "code",
      "source": [
        "#return the amount of numbers which are coprime to a number\n",
        "def isCoprime(a,b):\n",
        "  #make sure a < b\n",
        "  if(a > b):\n",
        "    holder = a\n",
        "    a = b\n",
        "    b = holder\n",
        "\n",
        "  for i in range(2,a+1):\n",
        "    if(a%i == 0 and b%i == 0):\n",
        "      return False\n",
        "  return True\n",
        "\n"
      ],
      "metadata": {
        "colab": {
          "base_uri": "https://localhost:8080/"
        },
        "id": "XWiaQL96inlO",
        "outputId": "b23ef01b-41c4-4ef1-bc11-ca5045f91851"
      },
      "execution_count": 62,
      "outputs": [
        {
          "output_type": "stream",
          "name": "stdout",
          "text": [
            "<function isCoprime at 0x7f9c4fa56f80>\n"
          ]
        }
      ]
    },
    {
      "cell_type": "markdown",
      "source": [
        "### Question 7"
      ],
      "metadata": {
        "id": "eUw0CfxKpGHU"
      }
    },
    {
      "cell_type": "code",
      "source": [
        "#list twin primes\n",
        "\n",
        "def isTwinPrime(s):\n",
        "  if(isPrime(s) and isPrime(s+2)):\n",
        "    return True\n",
        "  return False\n",
        "\n",
        "def listTwinPrimes(number):\n",
        "  for i in range(2,number+1):\n",
        "    if(isTwinPrime(i)):\n",
        "      print(i,i+2)\n",
        "\n",
        "listTwinPrimes(100)"
      ],
      "metadata": {
        "colab": {
          "base_uri": "https://localhost:8080/"
        },
        "id": "sYpCvecXposa",
        "outputId": "24eee0bf-f9bb-44a4-e619-4ba10ef2d357"
      },
      "execution_count": 35,
      "outputs": [
        {
          "output_type": "stream",
          "name": "stdout",
          "text": [
            "3 5\n",
            "5 7\n",
            "11 13\n",
            "17 19\n",
            "29 31\n",
            "41 43\n",
            "59 61\n",
            "71 73\n"
          ]
        }
      ]
    },
    {
      "cell_type": "markdown",
      "source": [
        "### Question 8"
      ],
      "metadata": {
        "id": "FS9t6h3Nr1CW"
      }
    },
    {
      "cell_type": "code",
      "source": [
        "#testing rock, paper, scissors\n",
        "import random as rnd\n",
        "\n",
        "rock = paper = scissors = 0\n",
        "for i in range(10000):\n",
        "  playerOne = rnd.randint(1,3)\n",
        "  playerTwo = rnd.randint(1,3)\n",
        "  \n",
        "  if(playerOne == 1 and playerTwo == 3) or (playerTwo == 1 and playerOne == 3):\n",
        "    rock = rock + 1\n",
        "  elif(playerOne == 2 and playerTwo == 1) or (playerTwo == 2 and playerOne == 1):\n",
        "    paper = paper + 1\n",
        "  elif(playerOne == 3 and playerTwo == 2) or (playerTwo == 3 and playerOne == 2):\n",
        "    scissors = scissors + 1\n",
        "\n",
        "print(rock/10000)\n",
        "print(paper/10000)\n",
        "print(scissors/10000)\n",
        "print((10000-rock+paper+scissors)/1000)"
      ],
      "metadata": {
        "colab": {
          "base_uri": "https://localhost:8080/"
        },
        "id": "7SuxVGm2r4-E",
        "outputId": "9f352592-f193-4806-f69e-4b4b2640459c"
      },
      "execution_count": 44,
      "outputs": [
        {
          "output_type": "stream",
          "name": "stdout",
          "text": [
            "0.2307\n",
            "0.2236\n",
            "0.2184\n",
            "12.113\n"
          ]
        }
      ]
    },
    {
      "cell_type": "markdown",
      "source": [
        "### Question 9"
      ],
      "metadata": {
        "id": "nIXEkC-PuxG9"
      }
    },
    {
      "cell_type": "code",
      "source": [
        "#Monst Hall problem\n",
        "import random as rnd\n",
        "\n",
        "def noChange():\n",
        "  #set 1 and 2 to a goat and 3 to a prize\n",
        "  myList = [1,2,3]\n",
        "  rnd.shuffle(myList)\n",
        "\n",
        "  #set up the goats and prize\n",
        "  doors = ['goat', 'goat', 'goat']\n",
        "  doors[myList.index(3)] = 'prize'\n",
        "\n",
        "  if doors[0] == 'prize':\n",
        "    return True\n",
        "  else:\n",
        "    return False\n",
        "\n",
        "def measureNoChange():\n",
        "  total = 0\n",
        "  for i in range(100000):\n",
        "    if(noChange()):\n",
        "      total = total + 1\n",
        "  print(total/100000)\n",
        "\n",
        "measureNoChange()"
      ],
      "metadata": {
        "colab": {
          "base_uri": "https://localhost:8080/"
        },
        "id": "pfh9ozsduzBs",
        "outputId": "2fbe8b01-4d8f-4488-b430-6b7ff3c94632"
      },
      "execution_count": 59,
      "outputs": [
        {
          "output_type": "stream",
          "name": "stdout",
          "text": [
            "0.33071\n"
          ]
        }
      ]
    },
    {
      "cell_type": "code",
      "source": [
        "#Monst Hall problem\n",
        "import random as rnd\n",
        "\n",
        "def noChange():\n",
        "  #set 1 and 2 to a goat and 3 to a prize\n",
        "  myList = [1,2,3]\n",
        "  rnd.shuffle(myList)\n",
        "\n",
        "  #set up the goats and prize\n",
        "  doors = ['goat', 'goat', 'goat']\n",
        "  doors[myList.index(3)] = 'prize'\n",
        "\n",
        "  #let the user choose a door\n",
        "  choice = 0\n",
        "\n",
        "  #create the sublist\n",
        "  toShow = doors[1:3]\n",
        "  door_to_show = toShow.index('goat')\n",
        "\n",
        "  if(door_to_show == 0):\n",
        "    if(doors[2] == 'prize'):\n",
        "      return True\n",
        "    else:\n",
        "      return False\n",
        "  elif(door_to_show == 1):\n",
        "    if(doors[1] == 'prize'):\n",
        "      return True\n",
        "    else:\n",
        "      return False\n",
        "\n",
        "def measureNoChange():\n",
        "  total = 0\n",
        "  for i in range(100000):\n",
        "    if(noChange()):\n",
        "      total = total + 1\n",
        "  print(total/100000)\n",
        "\n",
        "measureNoChange()\n",
        "\n"
      ],
      "metadata": {
        "colab": {
          "base_uri": "https://localhost:8080/"
        },
        "id": "caRcU2gc0DRU",
        "outputId": "af24ed7b-3f98-42d4-b8ef-d49be4cdebab"
      },
      "execution_count": 60,
      "outputs": [
        {
          "output_type": "stream",
          "name": "stdout",
          "text": [
            "0.66629\n"
          ]
        }
      ]
    }
  ]
}