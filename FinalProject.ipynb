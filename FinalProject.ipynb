{
  "nbformat": 4,
  "nbformat_minor": 0,
  "metadata": {
    "colab": {
      "name": "Proposal.ipynb",
      "provenance": [],
      "toc_visible": true,
      "include_colab_link": true
    },
    "kernelspec": {
      "name": "python3",
      "display_name": "Python 3"
    },
    "language_info": {
      "name": "python"
    }
  },
  "cells": [
    {
      "cell_type": "markdown",
      "metadata": {
        "id": "view-in-github",
        "colab_type": "text"
      },
      "source": [
        "<a href=\"https://colab.research.google.com/github/StrugglingProgrammer44/Programming-1/blob/main/FinalProject.ipynb\" target=\"_parent\"><img src=\"https://colab.research.google.com/assets/colab-badge.svg\" alt=\"Open In Colab\"/></a>"
      ]
    },
    {
      "cell_type": "markdown",
      "source": [
        "##Introduction\n",
        "Home advantage is fought for throughout many professional sports organizations. This means that each team ends in a certain rsnking based upon how many games they have won or lost that year. When the playoff teams are set at the end of the year and the playoffs begin, the higher ranked teams will have either more games at their home stadium or the only game will be there. This is said to have huge impacts on the outcome of many games in history, but what makes where the game happens so important?\n",
        "\n",
        "Many factors are involved when teams come together and although a team may lose a game at an away stadium, is that the cause of it or is that just a coincidence because any team has a chance to win? This is a big topic within sports as it can influence sports betting, team locations, and much more. Factors such as home town fans, less traveling to and from the stadium, and knowledge of the stadium are key to the advantages for the home team.\n",
        "\n",
        "\n"
      ],
      "metadata": {
        "id": "sxi_di9ryzRx"
      }
    },
    {
      "cell_type": "markdown",
      "source": [
        "##Research Question and Data\n",
        "I am researching past professional sports playoffs to determine if home advantage is as big of a factor as it seems to be. My main question is, do teams with home advantage have a better history of being victorious?\n",
        "\n",
        "This can help with team strategies when coming close to playoff time by knowing how important it is to earn that home advantage or if they should wait until playoff time to fully give their efforts instead of wasting useful energy before. This can also be a factor in sports betting so gamblers don't change their decision on a game due to home advantage if it is not as important as we had thought.\n",
        "\n",
        "I am using data from a csv file that will be imported from github named game.csv in NHL Game Data:\n",
        "\n",
        "(https://www.kaggle.com/code/kerneler/starter-nhl-game-data-72c5148f-5/data?select=game.csv)\n",
        "\n",
        "##Approach\n",
        "I am using National Hockey League data to find how many games are won at home in playoffs and if these games were won due to being at home. I am going to take this data and check for how many goals the home team had versus the away team and check for other factors that may have caused the outcome more than the location of the game. Lastly, I will compare the games in the regular season versus the playoffs to see if there is more of an advantage at home during the playoffs."
      ],
      "metadata": {
        "id": "GYPt9uoV5v-j"
      }
    },
    {
      "cell_type": "markdown",
      "source": [
        "# **Project**"
      ],
      "metadata": {
        "id": "2BYGebvFpcgL"
      }
    },
    {
      "cell_type": "code",
      "source": [
        "import pandas as pd\n",
        "import numpy as np\n",
        "import matplotlib.pyplot as plt\n",
        "import missingno as msno\n",
        "import seaborn as sns\n",
        "\n",
        "df = pd.read_csv(\"https://raw.githubusercontent.com/StrugglingProgrammer44/Programming-1/main/game%203.csv\")\n",
        "\n",
        "#making a copy just incase\n",
        "df_copy = df\n",
        "\n",
        "#adjusting column names\n",
        "df.columns = ['game', 'season', 'type', 'date', 'time', 'away', 'home', 'away_goals', 'home_goals', 'outcome', 'starting', 'venue', 'link', 'location', 'offset', 'timezone']\n",
        "\n",
        "#checking dimensions of the data\n",
        "print(\"The dimesnions of the data are: \", df.shape)\n",
        "\n",
        "#beginning of the data\n",
        "df.head()"
      ],
      "metadata": {
        "id": "JBaT8IXzfG1H",
        "outputId": "7be47164-deaf-4faa-fd23-b4ea9dd3474e",
        "colab": {
          "base_uri": "https://localhost:8080/",
          "height": 427
        }
      },
      "execution_count": 121,
      "outputs": [
        {
          "output_type": "stream",
          "name": "stdout",
          "text": [
            "The dimesnions of the data are:  (11434, 16)\n"
          ]
        },
        {
          "output_type": "execute_result",
          "data": {
            "text/plain": [
              "         game    season type        date                  time  away  home  \\\n",
              "0  2011030221  20112012    P  2012-04-29  2012-04-29T19:00:00Z     1     4   \n",
              "1  2011030222  20112012    P  2012-05-01  2012-05-01T23:30:00Z     1     4   \n",
              "2  2011030223  20112012    P  2012-05-03  2012-05-03T23:30:00Z     4     1   \n",
              "3  2011030224  20112012    P  2012-05-06  2012-05-06T23:30:00Z     4     1   \n",
              "4  2011030225  20112012    P  2012-05-08  2012-05-08T23:30:00Z     1     4   \n",
              "\n",
              "   away_goals  home_goals       outcome starting               venue  \\\n",
              "0           3           4   home win OT    right  Wells Fargo Center   \n",
              "1           4           1  away win REG    right  Wells Fargo Center   \n",
              "2           3           4   home win OT     left   Prudential Center   \n",
              "3           2           4  home win REG     left   Prudential Center   \n",
              "4           3           1  away win REG    right  Wells Fargo Center   \n",
              "\n",
              "                  link          location  offset timezone  \n",
              "0  /api/v1/venues/null  America/New_York      -4      EDT  \n",
              "1  /api/v1/venues/null  America/New_York      -4      EDT  \n",
              "2  /api/v1/venues/null  America/New_York      -4      EDT  \n",
              "3  /api/v1/venues/null  America/New_York      -4      EDT  \n",
              "4  /api/v1/venues/null  America/New_York      -4      EDT  "
            ],
            "text/html": [
              "\n",
              "  <div id=\"df-9edfded4-4959-49bc-822d-e4908b52787a\">\n",
              "    <div class=\"colab-df-container\">\n",
              "      <div>\n",
              "<style scoped>\n",
              "    .dataframe tbody tr th:only-of-type {\n",
              "        vertical-align: middle;\n",
              "    }\n",
              "\n",
              "    .dataframe tbody tr th {\n",
              "        vertical-align: top;\n",
              "    }\n",
              "\n",
              "    .dataframe thead th {\n",
              "        text-align: right;\n",
              "    }\n",
              "</style>\n",
              "<table border=\"1\" class=\"dataframe\">\n",
              "  <thead>\n",
              "    <tr style=\"text-align: right;\">\n",
              "      <th></th>\n",
              "      <th>game</th>\n",
              "      <th>season</th>\n",
              "      <th>type</th>\n",
              "      <th>date</th>\n",
              "      <th>time</th>\n",
              "      <th>away</th>\n",
              "      <th>home</th>\n",
              "      <th>away_goals</th>\n",
              "      <th>home_goals</th>\n",
              "      <th>outcome</th>\n",
              "      <th>starting</th>\n",
              "      <th>venue</th>\n",
              "      <th>link</th>\n",
              "      <th>location</th>\n",
              "      <th>offset</th>\n",
              "      <th>timezone</th>\n",
              "    </tr>\n",
              "  </thead>\n",
              "  <tbody>\n",
              "    <tr>\n",
              "      <th>0</th>\n",
              "      <td>2011030221</td>\n",
              "      <td>20112012</td>\n",
              "      <td>P</td>\n",
              "      <td>2012-04-29</td>\n",
              "      <td>2012-04-29T19:00:00Z</td>\n",
              "      <td>1</td>\n",
              "      <td>4</td>\n",
              "      <td>3</td>\n",
              "      <td>4</td>\n",
              "      <td>home win OT</td>\n",
              "      <td>right</td>\n",
              "      <td>Wells Fargo Center</td>\n",
              "      <td>/api/v1/venues/null</td>\n",
              "      <td>America/New_York</td>\n",
              "      <td>-4</td>\n",
              "      <td>EDT</td>\n",
              "    </tr>\n",
              "    <tr>\n",
              "      <th>1</th>\n",
              "      <td>2011030222</td>\n",
              "      <td>20112012</td>\n",
              "      <td>P</td>\n",
              "      <td>2012-05-01</td>\n",
              "      <td>2012-05-01T23:30:00Z</td>\n",
              "      <td>1</td>\n",
              "      <td>4</td>\n",
              "      <td>4</td>\n",
              "      <td>1</td>\n",
              "      <td>away win REG</td>\n",
              "      <td>right</td>\n",
              "      <td>Wells Fargo Center</td>\n",
              "      <td>/api/v1/venues/null</td>\n",
              "      <td>America/New_York</td>\n",
              "      <td>-4</td>\n",
              "      <td>EDT</td>\n",
              "    </tr>\n",
              "    <tr>\n",
              "      <th>2</th>\n",
              "      <td>2011030223</td>\n",
              "      <td>20112012</td>\n",
              "      <td>P</td>\n",
              "      <td>2012-05-03</td>\n",
              "      <td>2012-05-03T23:30:00Z</td>\n",
              "      <td>4</td>\n",
              "      <td>1</td>\n",
              "      <td>3</td>\n",
              "      <td>4</td>\n",
              "      <td>home win OT</td>\n",
              "      <td>left</td>\n",
              "      <td>Prudential Center</td>\n",
              "      <td>/api/v1/venues/null</td>\n",
              "      <td>America/New_York</td>\n",
              "      <td>-4</td>\n",
              "      <td>EDT</td>\n",
              "    </tr>\n",
              "    <tr>\n",
              "      <th>3</th>\n",
              "      <td>2011030224</td>\n",
              "      <td>20112012</td>\n",
              "      <td>P</td>\n",
              "      <td>2012-05-06</td>\n",
              "      <td>2012-05-06T23:30:00Z</td>\n",
              "      <td>4</td>\n",
              "      <td>1</td>\n",
              "      <td>2</td>\n",
              "      <td>4</td>\n",
              "      <td>home win REG</td>\n",
              "      <td>left</td>\n",
              "      <td>Prudential Center</td>\n",
              "      <td>/api/v1/venues/null</td>\n",
              "      <td>America/New_York</td>\n",
              "      <td>-4</td>\n",
              "      <td>EDT</td>\n",
              "    </tr>\n",
              "    <tr>\n",
              "      <th>4</th>\n",
              "      <td>2011030225</td>\n",
              "      <td>20112012</td>\n",
              "      <td>P</td>\n",
              "      <td>2012-05-08</td>\n",
              "      <td>2012-05-08T23:30:00Z</td>\n",
              "      <td>1</td>\n",
              "      <td>4</td>\n",
              "      <td>3</td>\n",
              "      <td>1</td>\n",
              "      <td>away win REG</td>\n",
              "      <td>right</td>\n",
              "      <td>Wells Fargo Center</td>\n",
              "      <td>/api/v1/venues/null</td>\n",
              "      <td>America/New_York</td>\n",
              "      <td>-4</td>\n",
              "      <td>EDT</td>\n",
              "    </tr>\n",
              "  </tbody>\n",
              "</table>\n",
              "</div>\n",
              "      <button class=\"colab-df-convert\" onclick=\"convertToInteractive('df-9edfded4-4959-49bc-822d-e4908b52787a')\"\n",
              "              title=\"Convert this dataframe to an interactive table.\"\n",
              "              style=\"display:none;\">\n",
              "        \n",
              "  <svg xmlns=\"http://www.w3.org/2000/svg\" height=\"24px\"viewBox=\"0 0 24 24\"\n",
              "       width=\"24px\">\n",
              "    <path d=\"M0 0h24v24H0V0z\" fill=\"none\"/>\n",
              "    <path d=\"M18.56 5.44l.94 2.06.94-2.06 2.06-.94-2.06-.94-.94-2.06-.94 2.06-2.06.94zm-11 1L8.5 8.5l.94-2.06 2.06-.94-2.06-.94L8.5 2.5l-.94 2.06-2.06.94zm10 10l.94 2.06.94-2.06 2.06-.94-2.06-.94-.94-2.06-.94 2.06-2.06.94z\"/><path d=\"M17.41 7.96l-1.37-1.37c-.4-.4-.92-.59-1.43-.59-.52 0-1.04.2-1.43.59L10.3 9.45l-7.72 7.72c-.78.78-.78 2.05 0 2.83L4 21.41c.39.39.9.59 1.41.59.51 0 1.02-.2 1.41-.59l7.78-7.78 2.81-2.81c.8-.78.8-2.07 0-2.86zM5.41 20L4 18.59l7.72-7.72 1.47 1.35L5.41 20z\"/>\n",
              "  </svg>\n",
              "      </button>\n",
              "      \n",
              "  <style>\n",
              "    .colab-df-container {\n",
              "      display:flex;\n",
              "      flex-wrap:wrap;\n",
              "      gap: 12px;\n",
              "    }\n",
              "\n",
              "    .colab-df-convert {\n",
              "      background-color: #E8F0FE;\n",
              "      border: none;\n",
              "      border-radius: 50%;\n",
              "      cursor: pointer;\n",
              "      display: none;\n",
              "      fill: #1967D2;\n",
              "      height: 32px;\n",
              "      padding: 0 0 0 0;\n",
              "      width: 32px;\n",
              "    }\n",
              "\n",
              "    .colab-df-convert:hover {\n",
              "      background-color: #E2EBFA;\n",
              "      box-shadow: 0px 1px 2px rgba(60, 64, 67, 0.3), 0px 1px 3px 1px rgba(60, 64, 67, 0.15);\n",
              "      fill: #174EA6;\n",
              "    }\n",
              "\n",
              "    [theme=dark] .colab-df-convert {\n",
              "      background-color: #3B4455;\n",
              "      fill: #D2E3FC;\n",
              "    }\n",
              "\n",
              "    [theme=dark] .colab-df-convert:hover {\n",
              "      background-color: #434B5C;\n",
              "      box-shadow: 0px 1px 3px 1px rgba(0, 0, 0, 0.15);\n",
              "      filter: drop-shadow(0px 1px 2px rgba(0, 0, 0, 0.3));\n",
              "      fill: #FFFFFF;\n",
              "    }\n",
              "  </style>\n",
              "\n",
              "      <script>\n",
              "        const buttonEl =\n",
              "          document.querySelector('#df-9edfded4-4959-49bc-822d-e4908b52787a button.colab-df-convert');\n",
              "        buttonEl.style.display =\n",
              "          google.colab.kernel.accessAllowed ? 'block' : 'none';\n",
              "\n",
              "        async function convertToInteractive(key) {\n",
              "          const element = document.querySelector('#df-9edfded4-4959-49bc-822d-e4908b52787a');\n",
              "          const dataTable =\n",
              "            await google.colab.kernel.invokeFunction('convertToInteractive',\n",
              "                                                     [key], {});\n",
              "          if (!dataTable) return;\n",
              "\n",
              "          const docLinkHtml = 'Like what you see? Visit the ' +\n",
              "            '<a target=\"_blank\" href=https://colab.research.google.com/notebooks/data_table.ipynb>data table notebook</a>'\n",
              "            + ' to learn more about interactive tables.';\n",
              "          element.innerHTML = '';\n",
              "          dataTable['output_type'] = 'display_data';\n",
              "          await google.colab.output.renderOutput(dataTable, element);\n",
              "          const docLink = document.createElement('div');\n",
              "          docLink.innerHTML = docLinkHtml;\n",
              "          element.appendChild(docLink);\n",
              "        }\n",
              "      </script>\n",
              "    </div>\n",
              "  </div>\n",
              "  "
            ]
          },
          "metadata": {},
          "execution_count": 121
        }
      ]
    },
    {
      "cell_type": "code",
      "source": [
        "#checking for empty data\n",
        "df.isna().sum()"
      ],
      "metadata": {
        "id": "b_xLsfSPohOT",
        "outputId": "46b3866f-69ef-4360-ab4c-cda8874187d0",
        "colab": {
          "base_uri": "https://localhost:8080/"
        }
      },
      "execution_count": 122,
      "outputs": [
        {
          "output_type": "execute_result",
          "data": {
            "text/plain": [
              "game            0\n",
              "season          0\n",
              "type            0\n",
              "date            0\n",
              "time            0\n",
              "away            0\n",
              "home            0\n",
              "away_goals      0\n",
              "home_goals      0\n",
              "outcome         0\n",
              "starting      294\n",
              "venue           0\n",
              "link            0\n",
              "location        0\n",
              "offset          0\n",
              "timezone        0\n",
              "dtype: int64"
            ]
          },
          "metadata": {},
          "execution_count": 122
        }
      ]
    },
    {
      "cell_type": "code",
      "source": [
        "#checking for unique values\n",
        "df.nunique()"
      ],
      "metadata": {
        "id": "-ZA3VRsbo1HR",
        "outputId": "4585c5e3-f4c0-4107-d6c8-029bf274bc40",
        "colab": {
          "base_uri": "https://localhost:8080/"
        }
      },
      "execution_count": 123,
      "outputs": [
        {
          "output_type": "execute_result",
          "data": {
            "text/plain": [
              "game          11434\n",
              "season            9\n",
              "type              2\n",
              "date           1923\n",
              "time           7156\n",
              "away             33\n",
              "home             33\n",
              "away_goals       11\n",
              "home_goals       11\n",
              "outcome           6\n",
              "starting          2\n",
              "venue            82\n",
              "link             29\n",
              "location         11\n",
              "offset            5\n",
              "timezone          8\n",
              "dtype: int64"
            ]
          },
          "metadata": {},
          "execution_count": 123
        }
      ]
    },
    {
      "cell_type": "code",
      "source": [
        "#converting all necessary data to numeric data\n",
        "df[['game', 'season', 'away', 'home', 'away_goals', 'home_goals']] = \\\n",
        "  df[['game', 'season', 'away', 'home', 'away_goals', 'home_goals']].apply(pd.to_numeric)\n",
        "\n",
        "df.head()"
      ],
      "metadata": {
        "id": "R5sXGsOY4Bp3",
        "outputId": "a9ba1629-0a11-4b63-8ce6-bfd7f4807bfb",
        "colab": {
          "base_uri": "https://localhost:8080/",
          "height": 409
        }
      },
      "execution_count": 124,
      "outputs": [
        {
          "output_type": "execute_result",
          "data": {
            "text/plain": [
              "         game    season type        date                  time  away  home  \\\n",
              "0  2011030221  20112012    P  2012-04-29  2012-04-29T19:00:00Z     1     4   \n",
              "1  2011030222  20112012    P  2012-05-01  2012-05-01T23:30:00Z     1     4   \n",
              "2  2011030223  20112012    P  2012-05-03  2012-05-03T23:30:00Z     4     1   \n",
              "3  2011030224  20112012    P  2012-05-06  2012-05-06T23:30:00Z     4     1   \n",
              "4  2011030225  20112012    P  2012-05-08  2012-05-08T23:30:00Z     1     4   \n",
              "\n",
              "   away_goals  home_goals       outcome starting               venue  \\\n",
              "0           3           4   home win OT    right  Wells Fargo Center   \n",
              "1           4           1  away win REG    right  Wells Fargo Center   \n",
              "2           3           4   home win OT     left   Prudential Center   \n",
              "3           2           4  home win REG     left   Prudential Center   \n",
              "4           3           1  away win REG    right  Wells Fargo Center   \n",
              "\n",
              "                  link          location  offset timezone  \n",
              "0  /api/v1/venues/null  America/New_York      -4      EDT  \n",
              "1  /api/v1/venues/null  America/New_York      -4      EDT  \n",
              "2  /api/v1/venues/null  America/New_York      -4      EDT  \n",
              "3  /api/v1/venues/null  America/New_York      -4      EDT  \n",
              "4  /api/v1/venues/null  America/New_York      -4      EDT  "
            ],
            "text/html": [
              "\n",
              "  <div id=\"df-7d0dfa98-fee1-4fcb-a16f-7d1e4d6cb577\">\n",
              "    <div class=\"colab-df-container\">\n",
              "      <div>\n",
              "<style scoped>\n",
              "    .dataframe tbody tr th:only-of-type {\n",
              "        vertical-align: middle;\n",
              "    }\n",
              "\n",
              "    .dataframe tbody tr th {\n",
              "        vertical-align: top;\n",
              "    }\n",
              "\n",
              "    .dataframe thead th {\n",
              "        text-align: right;\n",
              "    }\n",
              "</style>\n",
              "<table border=\"1\" class=\"dataframe\">\n",
              "  <thead>\n",
              "    <tr style=\"text-align: right;\">\n",
              "      <th></th>\n",
              "      <th>game</th>\n",
              "      <th>season</th>\n",
              "      <th>type</th>\n",
              "      <th>date</th>\n",
              "      <th>time</th>\n",
              "      <th>away</th>\n",
              "      <th>home</th>\n",
              "      <th>away_goals</th>\n",
              "      <th>home_goals</th>\n",
              "      <th>outcome</th>\n",
              "      <th>starting</th>\n",
              "      <th>venue</th>\n",
              "      <th>link</th>\n",
              "      <th>location</th>\n",
              "      <th>offset</th>\n",
              "      <th>timezone</th>\n",
              "    </tr>\n",
              "  </thead>\n",
              "  <tbody>\n",
              "    <tr>\n",
              "      <th>0</th>\n",
              "      <td>2011030221</td>\n",
              "      <td>20112012</td>\n",
              "      <td>P</td>\n",
              "      <td>2012-04-29</td>\n",
              "      <td>2012-04-29T19:00:00Z</td>\n",
              "      <td>1</td>\n",
              "      <td>4</td>\n",
              "      <td>3</td>\n",
              "      <td>4</td>\n",
              "      <td>home win OT</td>\n",
              "      <td>right</td>\n",
              "      <td>Wells Fargo Center</td>\n",
              "      <td>/api/v1/venues/null</td>\n",
              "      <td>America/New_York</td>\n",
              "      <td>-4</td>\n",
              "      <td>EDT</td>\n",
              "    </tr>\n",
              "    <tr>\n",
              "      <th>1</th>\n",
              "      <td>2011030222</td>\n",
              "      <td>20112012</td>\n",
              "      <td>P</td>\n",
              "      <td>2012-05-01</td>\n",
              "      <td>2012-05-01T23:30:00Z</td>\n",
              "      <td>1</td>\n",
              "      <td>4</td>\n",
              "      <td>4</td>\n",
              "      <td>1</td>\n",
              "      <td>away win REG</td>\n",
              "      <td>right</td>\n",
              "      <td>Wells Fargo Center</td>\n",
              "      <td>/api/v1/venues/null</td>\n",
              "      <td>America/New_York</td>\n",
              "      <td>-4</td>\n",
              "      <td>EDT</td>\n",
              "    </tr>\n",
              "    <tr>\n",
              "      <th>2</th>\n",
              "      <td>2011030223</td>\n",
              "      <td>20112012</td>\n",
              "      <td>P</td>\n",
              "      <td>2012-05-03</td>\n",
              "      <td>2012-05-03T23:30:00Z</td>\n",
              "      <td>4</td>\n",
              "      <td>1</td>\n",
              "      <td>3</td>\n",
              "      <td>4</td>\n",
              "      <td>home win OT</td>\n",
              "      <td>left</td>\n",
              "      <td>Prudential Center</td>\n",
              "      <td>/api/v1/venues/null</td>\n",
              "      <td>America/New_York</td>\n",
              "      <td>-4</td>\n",
              "      <td>EDT</td>\n",
              "    </tr>\n",
              "    <tr>\n",
              "      <th>3</th>\n",
              "      <td>2011030224</td>\n",
              "      <td>20112012</td>\n",
              "      <td>P</td>\n",
              "      <td>2012-05-06</td>\n",
              "      <td>2012-05-06T23:30:00Z</td>\n",
              "      <td>4</td>\n",
              "      <td>1</td>\n",
              "      <td>2</td>\n",
              "      <td>4</td>\n",
              "      <td>home win REG</td>\n",
              "      <td>left</td>\n",
              "      <td>Prudential Center</td>\n",
              "      <td>/api/v1/venues/null</td>\n",
              "      <td>America/New_York</td>\n",
              "      <td>-4</td>\n",
              "      <td>EDT</td>\n",
              "    </tr>\n",
              "    <tr>\n",
              "      <th>4</th>\n",
              "      <td>2011030225</td>\n",
              "      <td>20112012</td>\n",
              "      <td>P</td>\n",
              "      <td>2012-05-08</td>\n",
              "      <td>2012-05-08T23:30:00Z</td>\n",
              "      <td>1</td>\n",
              "      <td>4</td>\n",
              "      <td>3</td>\n",
              "      <td>1</td>\n",
              "      <td>away win REG</td>\n",
              "      <td>right</td>\n",
              "      <td>Wells Fargo Center</td>\n",
              "      <td>/api/v1/venues/null</td>\n",
              "      <td>America/New_York</td>\n",
              "      <td>-4</td>\n",
              "      <td>EDT</td>\n",
              "    </tr>\n",
              "  </tbody>\n",
              "</table>\n",
              "</div>\n",
              "      <button class=\"colab-df-convert\" onclick=\"convertToInteractive('df-7d0dfa98-fee1-4fcb-a16f-7d1e4d6cb577')\"\n",
              "              title=\"Convert this dataframe to an interactive table.\"\n",
              "              style=\"display:none;\">\n",
              "        \n",
              "  <svg xmlns=\"http://www.w3.org/2000/svg\" height=\"24px\"viewBox=\"0 0 24 24\"\n",
              "       width=\"24px\">\n",
              "    <path d=\"M0 0h24v24H0V0z\" fill=\"none\"/>\n",
              "    <path d=\"M18.56 5.44l.94 2.06.94-2.06 2.06-.94-2.06-.94-.94-2.06-.94 2.06-2.06.94zm-11 1L8.5 8.5l.94-2.06 2.06-.94-2.06-.94L8.5 2.5l-.94 2.06-2.06.94zm10 10l.94 2.06.94-2.06 2.06-.94-2.06-.94-.94-2.06-.94 2.06-2.06.94z\"/><path d=\"M17.41 7.96l-1.37-1.37c-.4-.4-.92-.59-1.43-.59-.52 0-1.04.2-1.43.59L10.3 9.45l-7.72 7.72c-.78.78-.78 2.05 0 2.83L4 21.41c.39.39.9.59 1.41.59.51 0 1.02-.2 1.41-.59l7.78-7.78 2.81-2.81c.8-.78.8-2.07 0-2.86zM5.41 20L4 18.59l7.72-7.72 1.47 1.35L5.41 20z\"/>\n",
              "  </svg>\n",
              "      </button>\n",
              "      \n",
              "  <style>\n",
              "    .colab-df-container {\n",
              "      display:flex;\n",
              "      flex-wrap:wrap;\n",
              "      gap: 12px;\n",
              "    }\n",
              "\n",
              "    .colab-df-convert {\n",
              "      background-color: #E8F0FE;\n",
              "      border: none;\n",
              "      border-radius: 50%;\n",
              "      cursor: pointer;\n",
              "      display: none;\n",
              "      fill: #1967D2;\n",
              "      height: 32px;\n",
              "      padding: 0 0 0 0;\n",
              "      width: 32px;\n",
              "    }\n",
              "\n",
              "    .colab-df-convert:hover {\n",
              "      background-color: #E2EBFA;\n",
              "      box-shadow: 0px 1px 2px rgba(60, 64, 67, 0.3), 0px 1px 3px 1px rgba(60, 64, 67, 0.15);\n",
              "      fill: #174EA6;\n",
              "    }\n",
              "\n",
              "    [theme=dark] .colab-df-convert {\n",
              "      background-color: #3B4455;\n",
              "      fill: #D2E3FC;\n",
              "    }\n",
              "\n",
              "    [theme=dark] .colab-df-convert:hover {\n",
              "      background-color: #434B5C;\n",
              "      box-shadow: 0px 1px 3px 1px rgba(0, 0, 0, 0.15);\n",
              "      filter: drop-shadow(0px 1px 2px rgba(0, 0, 0, 0.3));\n",
              "      fill: #FFFFFF;\n",
              "    }\n",
              "  </style>\n",
              "\n",
              "      <script>\n",
              "        const buttonEl =\n",
              "          document.querySelector('#df-7d0dfa98-fee1-4fcb-a16f-7d1e4d6cb577 button.colab-df-convert');\n",
              "        buttonEl.style.display =\n",
              "          google.colab.kernel.accessAllowed ? 'block' : 'none';\n",
              "\n",
              "        async function convertToInteractive(key) {\n",
              "          const element = document.querySelector('#df-7d0dfa98-fee1-4fcb-a16f-7d1e4d6cb577');\n",
              "          const dataTable =\n",
              "            await google.colab.kernel.invokeFunction('convertToInteractive',\n",
              "                                                     [key], {});\n",
              "          if (!dataTable) return;\n",
              "\n",
              "          const docLinkHtml = 'Like what you see? Visit the ' +\n",
              "            '<a target=\"_blank\" href=https://colab.research.google.com/notebooks/data_table.ipynb>data table notebook</a>'\n",
              "            + ' to learn more about interactive tables.';\n",
              "          element.innerHTML = '';\n",
              "          dataTable['output_type'] = 'display_data';\n",
              "          await google.colab.output.renderOutput(dataTable, element);\n",
              "          const docLink = document.createElement('div');\n",
              "          docLink.innerHTML = docLinkHtml;\n",
              "          element.appendChild(docLink);\n",
              "        }\n",
              "      </script>\n",
              "    </div>\n",
              "  </div>\n",
              "  "
            ]
          },
          "metadata": {},
          "execution_count": 124
        }
      ]
    },
    {
      "cell_type": "code",
      "source": [
        "!pip install pandas_profiling --upgrade"
      ],
      "metadata": {
        "id": "8zNzzgMd6hyJ",
        "outputId": "6e2a3355-fd69-4675-9d86-49fbccf2e9e6",
        "colab": {
          "base_uri": "https://localhost:8080/"
        }
      },
      "execution_count": 142,
      "outputs": [
        {
          "output_type": "stream",
          "name": "stdout",
          "text": [
            "Requirement already satisfied: pandas_profiling in /usr/local/lib/python3.7/dist-packages (3.2.0)\n",
            "Requirement already satisfied: pandas!=1.0.0,!=1.0.1,!=1.0.2,!=1.1.0,>=0.25.3 in /usr/local/lib/python3.7/dist-packages (from pandas_profiling) (1.3.5)\n",
            "Requirement already satisfied: phik>=0.11.1 in /usr/local/lib/python3.7/dist-packages (from pandas_profiling) (0.12.2)\n",
            "Requirement already satisfied: requests>=2.24.0 in /usr/local/lib/python3.7/dist-packages (from pandas_profiling) (2.27.1)\n",
            "Requirement already satisfied: seaborn>=0.10.1 in /usr/local/lib/python3.7/dist-packages (from pandas_profiling) (0.11.2)\n",
            "Requirement already satisfied: pydantic>=1.8.1 in /usr/local/lib/python3.7/dist-packages (from pandas_profiling) (1.9.0)\n",
            "Requirement already satisfied: matplotlib>=3.2.0 in /usr/local/lib/python3.7/dist-packages (from pandas_profiling) (3.2.2)\n",
            "Requirement already satisfied: htmlmin>=0.1.12 in /usr/local/lib/python3.7/dist-packages (from pandas_profiling) (0.1.12)\n",
            "Requirement already satisfied: missingno>=0.4.2 in /usr/local/lib/python3.7/dist-packages (from pandas_profiling) (0.5.1)\n",
            "Requirement already satisfied: multimethod>=1.4 in /usr/local/lib/python3.7/dist-packages (from pandas_profiling) (1.8)\n",
            "Requirement already satisfied: tangled-up-in-unicode==0.2.0 in /usr/local/lib/python3.7/dist-packages (from pandas_profiling) (0.2.0)\n",
            "Requirement already satisfied: tqdm>=4.48.2 in /usr/local/lib/python3.7/dist-packages (from pandas_profiling) (4.64.0)\n",
            "Requirement already satisfied: scipy>=1.4.1 in /usr/local/lib/python3.7/dist-packages (from pandas_profiling) (1.7.3)\n",
            "Requirement already satisfied: numpy>=1.16.0 in /usr/local/lib/python3.7/dist-packages (from pandas_profiling) (1.21.6)\n",
            "Requirement already satisfied: PyYAML>=5.0.0 in /usr/local/lib/python3.7/dist-packages (from pandas_profiling) (6.0)\n",
            "Requirement already satisfied: jinja2>=2.11.1 in /usr/local/lib/python3.7/dist-packages (from pandas_profiling) (2.11.3)\n",
            "Requirement already satisfied: visions[type_image_path]==0.7.5 in /usr/local/lib/python3.7/dist-packages (from pandas_profiling) (0.7.5)\n",
            "Requirement already satisfied: joblib~=1.1.0 in /usr/local/lib/python3.7/dist-packages (from pandas_profiling) (1.1.0)\n",
            "Requirement already satisfied: networkx>=2.4 in /usr/local/lib/python3.7/dist-packages (from visions[type_image_path]==0.7.5->pandas_profiling) (2.6.3)\n",
            "Requirement already satisfied: attrs>=19.3.0 in /usr/local/lib/python3.7/dist-packages (from visions[type_image_path]==0.7.5->pandas_profiling) (21.4.0)\n",
            "Requirement already satisfied: Pillow in /usr/local/lib/python3.7/dist-packages (from visions[type_image_path]==0.7.5->pandas_profiling) (7.1.2)\n",
            "Requirement already satisfied: imagehash in /usr/local/lib/python3.7/dist-packages (from visions[type_image_path]==0.7.5->pandas_profiling) (4.2.1)\n",
            "Requirement already satisfied: MarkupSafe>=0.23 in /usr/local/lib/python3.7/dist-packages (from jinja2>=2.11.1->pandas_profiling) (2.1.1)\n",
            "Requirement already satisfied: cycler>=0.10 in /usr/local/lib/python3.7/dist-packages (from matplotlib>=3.2.0->pandas_profiling) (0.11.0)\n",
            "Requirement already satisfied: pyparsing!=2.0.4,!=2.1.2,!=2.1.6,>=2.0.1 in /usr/local/lib/python3.7/dist-packages (from matplotlib>=3.2.0->pandas_profiling) (3.0.8)\n",
            "Requirement already satisfied: python-dateutil>=2.1 in /usr/local/lib/python3.7/dist-packages (from matplotlib>=3.2.0->pandas_profiling) (2.8.2)\n",
            "Requirement already satisfied: kiwisolver>=1.0.1 in /usr/local/lib/python3.7/dist-packages (from matplotlib>=3.2.0->pandas_profiling) (1.4.2)\n",
            "Requirement already satisfied: typing-extensions in /usr/local/lib/python3.7/dist-packages (from kiwisolver>=1.0.1->matplotlib>=3.2.0->pandas_profiling) (4.2.0)\n",
            "Requirement already satisfied: pytz>=2017.3 in /usr/local/lib/python3.7/dist-packages (from pandas!=1.0.0,!=1.0.1,!=1.0.2,!=1.1.0,>=0.25.3->pandas_profiling) (2022.1)\n",
            "Requirement already satisfied: six>=1.5 in /usr/local/lib/python3.7/dist-packages (from python-dateutil>=2.1->matplotlib>=3.2.0->pandas_profiling) (1.15.0)\n",
            "Requirement already satisfied: charset-normalizer~=2.0.0 in /usr/local/lib/python3.7/dist-packages (from requests>=2.24.0->pandas_profiling) (2.0.12)\n",
            "Requirement already satisfied: idna<4,>=2.5 in /usr/local/lib/python3.7/dist-packages (from requests>=2.24.0->pandas_profiling) (2.10)\n",
            "Requirement already satisfied: certifi>=2017.4.17 in /usr/local/lib/python3.7/dist-packages (from requests>=2.24.0->pandas_profiling) (2021.10.8)\n",
            "Requirement already satisfied: urllib3<1.27,>=1.21.1 in /usr/local/lib/python3.7/dist-packages (from requests>=2.24.0->pandas_profiling) (1.24.3)\n",
            "Requirement already satisfied: PyWavelets in /usr/local/lib/python3.7/dist-packages (from imagehash->visions[type_image_path]==0.7.5->pandas_profiling) (1.3.0)\n"
          ]
        }
      ]
    },
    {
      "cell_type": "code",
      "source": [
        "import pandas_profiling\n",
        "pandas_profiling.ProfileReport(df)\n",
        "\n",
        "#error cannot get report"
      ],
      "metadata": {
        "id": "fNyVV_XGD8WL"
      },
      "execution_count": null,
      "outputs": []
    },
    {
      "cell_type": "markdown",
      "source": [
        "Based on the information below I am gathering the data from the wins and losses depending on if the winner was at home or away and how they won."
      ],
      "metadata": {
        "id": "fgqG_ugCFgzQ"
      }
    },
    {
      "cell_type": "code",
      "source": [
        "#Checking categorical data\n",
        "#outputting the individual parts\n",
        "\n",
        "print(df['outcome'].value_counts())"
      ],
      "metadata": {
        "id": "gUI-VuAkETR4",
        "outputId": "43967d4f-3284-46a5-9bd7-a2da1c7b5b2d",
        "colab": {
          "base_uri": "https://localhost:8080/"
        }
      },
      "execution_count": 144,
      "outputs": [
        {
          "output_type": "stream",
          "name": "stdout",
          "text": [
            "home win REG    4857\n",
            "away win REG    3881\n",
            "home win OT      791\n",
            "away win OT      734\n",
            "away win SO      591\n",
            "home win SO      580\n",
            "Name: outcome, dtype: int64\n"
          ]
        }
      ]
    },
    {
      "cell_type": "markdown",
      "source": [
        "The next set of information is going to be the amount of goals for the home teams and the amount of goals for away teams."
      ],
      "metadata": {
        "id": "bDCITJ7GFuaV"
      }
    },
    {
      "cell_type": "code",
      "source": [
        "#amount of goals at home\n",
        "print(df['home_goals'].value_counts())"
      ],
      "metadata": {
        "id": "dTD8bB8oF12M",
        "outputId": "2df3e675-a3a6-43ba-9356-9463f95b28f3",
        "colab": {
          "base_uri": "https://localhost:8080/"
        }
      },
      "execution_count": 152,
      "outputs": [
        {
          "output_type": "stream",
          "name": "stdout",
          "text": [
            "3     2516\n",
            "2     2457\n",
            "4     2009\n",
            "1     1749\n",
            "5     1219\n",
            "0      683\n",
            "6      542\n",
            "7      190\n",
            "8       55\n",
            "9       10\n",
            "10       4\n",
            "Name: home_goals, dtype: int64\n"
          ]
        }
      ]
    },
    {
      "cell_type": "code",
      "source": [
        "#amount of goals away\n",
        "print(df['away_goals'].value_counts())"
      ],
      "metadata": {
        "id": "jkxRwt35F9l8",
        "outputId": "d8788dde-e6f2-4c3c-a692-49bcb9fc2f78",
        "colab": {
          "base_uri": "https://localhost:8080/"
        }
      },
      "execution_count": 153,
      "outputs": [
        {
          "output_type": "stream",
          "name": "stdout",
          "text": [
            "2     2714\n",
            "3     2508\n",
            "1     2088\n",
            "4     1855\n",
            "5      940\n",
            "0      823\n",
            "6      339\n",
            "7      136\n",
            "8       22\n",
            "9        7\n",
            "10       2\n",
            "Name: away_goals, dtype: int64\n"
          ]
        }
      ]
    },
    {
      "cell_type": "markdown",
      "source": [
        "So far from the data I have gathered I am able to conclude a couple things. I was first able to check the amount of seasons accounted for in the data. There were 9 seasons that were taken from which is a large serving size so the data is reliable. Also, I concluded that home teams had many less games than away teams where they did not score a single goal. This shows that home advantage seems to be true at first.\n",
        "\n",
        "Next I am going to plot on a graph the amount of goals per team."
      ],
      "metadata": {
        "id": "mZXXhI9BHllQ"
      }
    },
    {
      "cell_type": "code",
      "source": [
        "#home teams goals\n",
        "plt.figure(figsize=(10,8))\n",
        "df['home_goals'].value_counts().plot(kind='bar', fontsize = 8)"
      ],
      "metadata": {
        "id": "WABdrFMoIhxK",
        "outputId": "21c90d34-74c1-4484-869c-781eee03f063",
        "colab": {
          "base_uri": "https://localhost:8080/",
          "height": 501
        }
      },
      "execution_count": 161,
      "outputs": [
        {
          "output_type": "execute_result",
          "data": {
            "text/plain": [
              "<matplotlib.axes._subplots.AxesSubplot at 0x7fa0ca1bde10>"
            ]
          },
          "metadata": {},
          "execution_count": 161
        },
        {
          "output_type": "display_data",
          "data": {
            "text/plain": [
              "<Figure size 720x576 with 1 Axes>"
            ],
            "image/png": "[encoded data removed]"
          },
          "metadata": {
            "needs_background": "light"
          }
        }
      ]
    },
    {
      "cell_type": "code",
      "source": [
        "#away teams goals\n",
        "plt.figure(figsize=(10,8))\n",
        "df['away_goals'].value_counts().plot(kind='bar', fontsize = 8)"
      ],
      "metadata": {
        "id": "jLxwyas9JltO",
        "outputId": "28bdd3f3-961b-4a2e-ccb4-b79d8e80c0f9",
        "colab": {
          "base_uri": "https://localhost:8080/",
          "height": 501
        }
      },
      "execution_count": 155,
      "outputs": [
        {
          "output_type": "execute_result",
          "data": {
            "text/plain": [
              "<matplotlib.axes._subplots.AxesSubplot at 0x7fa0c93dc610>"
            ]
          },
          "metadata": {},
          "execution_count": 155
        },
        {
          "output_type": "display_data",
          "data": {
            "text/plain": [
              "<Figure size 720x576 with 1 Axes>"
            ],
            "image/png": "[encoded data removed]"
          },
          "metadata": {
            "needs_background": "light"
          }
        }
      ]
    },
    {
      "cell_type": "markdown",
      "source": [
        "From these graphs you can tell the goals per home versus away teams is not too different. Although this seems like a trend that goes against home ice advantage, you can also tell goals do not come very often as the lower scores are much greater in amount."
      ],
      "metadata": {
        "id": "9vQ5_3l3J_yC"
      }
    },
    {
      "cell_type": "code",
      "source": [
        "#creating a dataframe for numerical data\n",
        "df.hist(bins=25, figsize=(12,8))\n",
        "plt.show()"
      ],
      "metadata": {
        "id": "6IdgWyNBKzoo",
        "outputId": "a42ecc97-24bc-4f0e-cf6e-c74fbdc7beb5",
        "colab": {
          "base_uri": "https://localhost:8080/",
          "height": 499
        }
      },
      "execution_count": 168,
      "outputs": [
        {
          "output_type": "display_data",
          "data": {
            "text/plain": [
              "<Figure size 864x576 with 9 Axes>"
            ],
            "image/png": "[encoded data removed]"
          },
          "metadata": {
            "needs_background": "light"
          }
        }
      ]
    },
    {
      "cell_type": "markdown",
      "source": [
        "The above data is helping to explain the same concept that the home goals are more swayed to the higher number but not significantly by any means."
      ],
      "metadata": {
        "id": "5mdjtCSfMOjP"
      }
    },
    {
      "cell_type": "code",
      "source": [
        "#correlations between the data with a correlation matrix\n",
        "corrMatrix = df.corr()\n",
        "plt.figure(figsize=(10,8))\n",
        "sns.heatmap(corrMatrix, annot=True)\n",
        "plt.show()"
      ],
      "metadata": {
        "id": "3nfxYTcWMo13",
        "outputId": "8a4a3b16-ffd7-4f70-88b4-da1521e417c6",
        "colab": {
          "base_uri": "https://localhost:8080/",
          "height": 488
        }
      },
      "execution_count": 169,
      "outputs": [
        {
          "output_type": "display_data",
          "data": {
            "text/plain": [
              "<Figure size 720x576 with 2 Axes>"
            ],
            "image/png": "[encoded data removed]"
          },
          "metadata": {
            "needs_background": "light"
          }
        }
      ]
    },
    {
      "cell_type": "markdown",
      "source": [
        "Unfortunately, based on this matrix I can see that not many other factors in this data set have much of a correlation with home or away goals."
      ],
      "metadata": {
        "id": "TlyEwvnrNjah"
      }
    },
    {
      "cell_type": "code",
      "source": [
        "#I want to test only correlations with home goals\n",
        "corrMatrix[\"home_goals\"].sort_values(ascending=False)"
      ],
      "metadata": {
        "id": "7-7WMtfvN1W-",
        "outputId": "6053462f-8f02-42ae-ee4c-3411d5b91a8c",
        "colab": {
          "base_uri": "https://localhost:8080/"
        }
      },
      "execution_count": 172,
      "outputs": [
        {
          "output_type": "execute_result",
          "data": {
            "text/plain": [
              "home_goals    1.000000e+00\n",
              "season        4.866006e-02\n",
              "game          4.863698e-02\n",
              "away          8.991123e-03\n",
              "home          5.205296e-03\n",
              "offset        4.700806e-07\n",
              "away_goals   -6.407065e-02\n",
              "Name: home_goals, dtype: float64"
            ]
          },
          "metadata": {},
          "execution_count": 172
        }
      ]
    },
    {
      "cell_type": "markdown",
      "source": [
        "Unable to see a strong correlation matching any results I am trying to gain in this project. Perhaps a variable like health would show a much greater correlation with goals at home."
      ],
      "metadata": {
        "id": "Zva1D3tmOlJv"
      }
    },
    {
      "cell_type": "code",
      "source": [
        "#comparing different factors\n",
        "from pandas.plotting import scatter_matrix\n",
        "\n",
        "attributes = ['season', 'home_goals', 'away_goals']\n",
        "scatter_matrix(df[attributes], figsize=(12,8))"
      ],
      "metadata": {
        "id": "9CMXfQgFRLFp",
        "outputId": "c917b06b-e784-442f-9933-37185410348c",
        "colab": {
          "base_uri": "https://localhost:8080/",
          "height": 688
        }
      },
      "execution_count": 186,
      "outputs": [
        {
          "output_type": "execute_result",
          "data": {
            "text/plain": [
              "array([[<matplotlib.axes._subplots.AxesSubplot object at 0x7fa0c5c4e390>,\n",
              "        <matplotlib.axes._subplots.AxesSubplot object at 0x7fa0c5c6aa90>,\n",
              "        <matplotlib.axes._subplots.AxesSubplot object at 0x7fa0c5c1ff50>],\n",
              "       [<matplotlib.axes._subplots.AxesSubplot object at 0x7fa0c5be1490>,\n",
              "        <matplotlib.axes._subplots.AxesSubplot object at 0x7fa0c5b97990>,\n",
              "        <matplotlib.axes._subplots.AxesSubplot object at 0x7fa0c5b4ee90>],\n",
              "       [<matplotlib.axes._subplots.AxesSubplot object at 0x7fa0c5b12450>,\n",
              "        <matplotlib.axes._subplots.AxesSubplot object at 0x7fa0c5ac8890>,\n",
              "        <matplotlib.axes._subplots.AxesSubplot object at 0x7fa0c5ac88d0>]],\n",
              "      dtype=object)"
            ]
          },
          "metadata": {},
          "execution_count": 186
        },
        {
          "output_type": "display_data",
          "data": {
            "text/plain": [
              "<Figure size 864x576 with 9 Axes>"
            ],
            "image/png": "[encoded data removed]"
          },
          "metadata": {
            "needs_background": "light"
          }
        }
      ]
    },
    {
      "cell_type": "markdown",
      "source": [
        "This was not very clear as well on how the relationship is between the home and away goals over time each sason.\n",
        "\n",
        "Now I will start looking at the outcome of the games compared to the playoff or regular season."
      ],
      "metadata": {
        "id": "YzbBaAsCSEaf"
      }
    },
    {
      "cell_type": "code",
      "source": [
        "plt.figure(figsize=(10,8))\n",
        "df['outcome'].value_counts().plot(kind='bar', fontsize = 8)"
      ],
      "metadata": {
        "id": "Tr4i9hONSCIm",
        "outputId": "a994a673-3fd7-47f1-a61f-110f326a6a44",
        "colab": {
          "base_uri": "https://localhost:8080/",
          "height": 549
        }
      },
      "execution_count": 187,
      "outputs": [
        {
          "output_type": "execute_result",
          "data": {
            "text/plain": [
              "<matplotlib.axes._subplots.AxesSubplot at 0x7fa0c8826c10>"
            ]
          },
          "metadata": {},
          "execution_count": 187
        },
        {
          "output_type": "display_data",
          "data": {
            "text/plain": [
              "<Figure size 720x576 with 1 Axes>"
            ],
            "image/png": "[encoded data removed]"
          },
          "metadata": {
            "needs_background": "light"
          }
        }
      ]
    },
    {
      "cell_type": "code",
      "source": [
        "plt.figure(figsize=(10,8))\n",
        "df['type'].value_counts().plot(kind='bar', fontsize = 8)"
      ],
      "metadata": {
        "id": "3EJV1SCCTGwf",
        "outputId": "1854a94b-cd37-48f0-89ee-b24c7383923a",
        "colab": {
          "base_uri": "https://localhost:8080/",
          "height": 496
        }
      },
      "execution_count": 188,
      "outputs": [
        {
          "output_type": "execute_result",
          "data": {
            "text/plain": [
              "<matplotlib.axes._subplots.AxesSubplot at 0x7fa0c8374410>"
            ]
          },
          "metadata": {},
          "execution_count": 188
        },
        {
          "output_type": "display_data",
          "data": {
            "text/plain": [
              "<Figure size 720x576 with 1 Axes>"
            ],
            "image/png": "[encoded data removed]"
          },
          "metadata": {
            "needs_background": "light"
          }
        }
      ]
    },
    {
      "cell_type": "markdown",
      "source": [
        "When looking at the outcome graph, I gathered strong information that home wins in regulation had the clear highest amount concluding that home advantage would be important. However, when I looked towards the lower end of the graph, I saw that the only outcome that away teams are better in is shootout victories. This can tell a lot due to how intense games can be near the end but the home crowd may not be helping as much as expected. Next in the other graph just shows how many wins came the regular season versus playoffs. The P is much less showing that this data came a lot from regular season scores making the argument for playoff home advantage not as strong. "
      ],
      "metadata": {
        "id": "4azNruX6UluW"
      }
    },
    {
      "cell_type": "code",
      "source": [
        "#deleting missing data? Cannot remove subset \"starting\"\n",
        "df.dropna(subset=[\"starting\"])\n",
        "df.isna().sum()"
      ],
      "metadata": {
        "id": "lqsZ6227XQe4",
        "outputId": "e69e835c-a7e3-458b-95cc-b1ce69bc31ca",
        "colab": {
          "base_uri": "https://localhost:8080/"
        }
      },
      "execution_count": 197,
      "outputs": [
        {
          "output_type": "execute_result",
          "data": {
            "text/plain": [
              "game            0\n",
              "season          0\n",
              "type            0\n",
              "date            0\n",
              "time            0\n",
              "away            0\n",
              "home            0\n",
              "away_goals      0\n",
              "home_goals      0\n",
              "outcome         0\n",
              "starting      294\n",
              "venue           0\n",
              "link            0\n",
              "location        0\n",
              "offset          0\n",
              "timezone        0\n",
              "dtype: int64"
            ]
          },
          "metadata": {},
          "execution_count": 197
        }
      ]
    },
    {
      "cell_type": "code",
      "source": [
        "sub_df = pd.DataFrame(df[['season', 'outcome', 'type', 'venue' ]])\n",
        "sub_df.head()"
      ],
      "metadata": {
        "id": "EIyM3QKeYcXO",
        "outputId": "b97093a8-6665-4d61-fce4-a5633a577b65",
        "colab": {
          "base_uri": "https://localhost:8080/",
          "height": 206
        }
      },
      "execution_count": 205,
      "outputs": [
        {
          "output_type": "execute_result",
          "data": {
            "text/plain": [
              "     season       outcome type               venue\n",
              "0  20112012   home win OT    P  Wells Fargo Center\n",
              "1  20112012  away win REG    P  Wells Fargo Center\n",
              "2  20112012   home win OT    P   Prudential Center\n",
              "3  20112012  home win REG    P   Prudential Center\n",
              "4  20112012  away win REG    P  Wells Fargo Center"
            ],
            "text/html": [
              "\n",
              "  <div id=\"df-0ce87958-da26-4fb5-bdb3-f01412b7975d\">\n",
              "    <div class=\"colab-df-container\">\n",
              "      <div>\n",
              "<style scoped>\n",
              "    .dataframe tbody tr th:only-of-type {\n",
              "        vertical-align: middle;\n",
              "    }\n",
              "\n",
              "    .dataframe tbody tr th {\n",
              "        vertical-align: top;\n",
              "    }\n",
              "\n",
              "    .dataframe thead th {\n",
              "        text-align: right;\n",
              "    }\n",
              "</style>\n",
              "<table border=\"1\" class=\"dataframe\">\n",
              "  <thead>\n",
              "    <tr style=\"text-align: right;\">\n",
              "      <th></th>\n",
              "      <th>season</th>\n",
              "      <th>outcome</th>\n",
              "      <th>type</th>\n",
              "      <th>venue</th>\n",
              "    </tr>\n",
              "  </thead>\n",
              "  <tbody>\n",
              "    <tr>\n",
              "      <th>0</th>\n",
              "      <td>20112012</td>\n",
              "      <td>home win OT</td>\n",
              "      <td>P</td>\n",
              "      <td>Wells Fargo Center</td>\n",
              "    </tr>\n",
              "    <tr>\n",
              "      <th>1</th>\n",
              "      <td>20112012</td>\n",
              "      <td>away win REG</td>\n",
              "      <td>P</td>\n",
              "      <td>Wells Fargo Center</td>\n",
              "    </tr>\n",
              "    <tr>\n",
              "      <th>2</th>\n",
              "      <td>20112012</td>\n",
              "      <td>home win OT</td>\n",
              "      <td>P</td>\n",
              "      <td>Prudential Center</td>\n",
              "    </tr>\n",
              "    <tr>\n",
              "      <th>3</th>\n",
              "      <td>20112012</td>\n",
              "      <td>home win REG</td>\n",
              "      <td>P</td>\n",
              "      <td>Prudential Center</td>\n",
              "    </tr>\n",
              "    <tr>\n",
              "      <th>4</th>\n",
              "      <td>20112012</td>\n",
              "      <td>away win REG</td>\n",
              "      <td>P</td>\n",
              "      <td>Wells Fargo Center</td>\n",
              "    </tr>\n",
              "  </tbody>\n",
              "</table>\n",
              "</div>\n",
              "      <button class=\"colab-df-convert\" onclick=\"convertToInteractive('df-0ce87958-da26-4fb5-bdb3-f01412b7975d')\"\n",
              "              title=\"Convert this dataframe to an interactive table.\"\n",
              "              style=\"display:none;\">\n",
              "        \n",
              "  <svg xmlns=\"http://www.w3.org/2000/svg\" height=\"24px\"viewBox=\"0 0 24 24\"\n",
              "       width=\"24px\">\n",
              "    <path d=\"M0 0h24v24H0V0z\" fill=\"none\"/>\n",
              "    <path d=\"M18.56 5.44l.94 2.06.94-2.06 2.06-.94-2.06-.94-.94-2.06-.94 2.06-2.06.94zm-11 1L8.5 8.5l.94-2.06 2.06-.94-2.06-.94L8.5 2.5l-.94 2.06-2.06.94zm10 10l.94 2.06.94-2.06 2.06-.94-2.06-.94-.94-2.06-.94 2.06-2.06.94z\"/><path d=\"M17.41 7.96l-1.37-1.37c-.4-.4-.92-.59-1.43-.59-.52 0-1.04.2-1.43.59L10.3 9.45l-7.72 7.72c-.78.78-.78 2.05 0 2.83L4 21.41c.39.39.9.59 1.41.59.51 0 1.02-.2 1.41-.59l7.78-7.78 2.81-2.81c.8-.78.8-2.07 0-2.86zM5.41 20L4 18.59l7.72-7.72 1.47 1.35L5.41 20z\"/>\n",
              "  </svg>\n",
              "      </button>\n",
              "      \n",
              "  <style>\n",
              "    .colab-df-container {\n",
              "      display:flex;\n",
              "      flex-wrap:wrap;\n",
              "      gap: 12px;\n",
              "    }\n",
              "\n",
              "    .colab-df-convert {\n",
              "      background-color: #E8F0FE;\n",
              "      border: none;\n",
              "      border-radius: 50%;\n",
              "      cursor: pointer;\n",
              "      display: none;\n",
              "      fill: #1967D2;\n",
              "      height: 32px;\n",
              "      padding: 0 0 0 0;\n",
              "      width: 32px;\n",
              "    }\n",
              "\n",
              "    .colab-df-convert:hover {\n",
              "      background-color: #E2EBFA;\n",
              "      box-shadow: 0px 1px 2px rgba(60, 64, 67, 0.3), 0px 1px 3px 1px rgba(60, 64, 67, 0.15);\n",
              "      fill: #174EA6;\n",
              "    }\n",
              "\n",
              "    [theme=dark] .colab-df-convert {\n",
              "      background-color: #3B4455;\n",
              "      fill: #D2E3FC;\n",
              "    }\n",
              "\n",
              "    [theme=dark] .colab-df-convert:hover {\n",
              "      background-color: #434B5C;\n",
              "      box-shadow: 0px 1px 3px 1px rgba(0, 0, 0, 0.15);\n",
              "      filter: drop-shadow(0px 1px 2px rgba(0, 0, 0, 0.3));\n",
              "      fill: #FFFFFF;\n",
              "    }\n",
              "  </style>\n",
              "\n",
              "      <script>\n",
              "        const buttonEl =\n",
              "          document.querySelector('#df-0ce87958-da26-4fb5-bdb3-f01412b7975d button.colab-df-convert');\n",
              "        buttonEl.style.display =\n",
              "          google.colab.kernel.accessAllowed ? 'block' : 'none';\n",
              "\n",
              "        async function convertToInteractive(key) {\n",
              "          const element = document.querySelector('#df-0ce87958-da26-4fb5-bdb3-f01412b7975d');\n",
              "          const dataTable =\n",
              "            await google.colab.kernel.invokeFunction('convertToInteractive',\n",
              "                                                     [key], {});\n",
              "          if (!dataTable) return;\n",
              "\n",
              "          const docLinkHtml = 'Like what you see? Visit the ' +\n",
              "            '<a target=\"_blank\" href=https://colab.research.google.com/notebooks/data_table.ipynb>data table notebook</a>'\n",
              "            + ' to learn more about interactive tables.';\n",
              "          element.innerHTML = '';\n",
              "          dataTable['output_type'] = 'display_data';\n",
              "          await google.colab.output.renderOutput(dataTable, element);\n",
              "          const docLink = document.createElement('div');\n",
              "          docLink.innerHTML = docLinkHtml;\n",
              "          element.appendChild(docLink);\n",
              "        }\n",
              "      </script>\n",
              "    </div>\n",
              "  </div>\n",
              "  "
            ]
          },
          "metadata": {},
          "execution_count": 205
        }
      ]
    },
    {
      "cell_type": "code",
      "source": [
        "sub_df.isna().sum()"
      ],
      "metadata": {
        "id": "ZCnKsXKNbQ-d",
        "outputId": "9d84bfc1-2d7c-433b-ae42-e8a6c8116f11",
        "colab": {
          "base_uri": "https://localhost:8080/"
        }
      },
      "execution_count": 206,
      "outputs": [
        {
          "output_type": "execute_result",
          "data": {
            "text/plain": [
              "season     0\n",
              "outcome    0\n",
              "type       0\n",
              "venue      0\n",
              "dtype: int64"
            ]
          },
          "metadata": {},
          "execution_count": 206
        }
      ]
    },
    {
      "cell_type": "markdown",
      "source": [
        "I do not see any real correlation between the location of the game without taking into account the traveling for the away teams."
      ],
      "metadata": {
        "id": "lzSkNtF7atYz"
      }
    },
    {
      "cell_type": "code",
      "source": [
        "#df_SI never created, Error creating it so code not useful\n",
        "from sklearn import preprocessing\n",
        "\n",
        "min_max_scaler = preprocessing.MinMaxScaler()\n",
        "x_scaled = min_max_scaler.fit_transform(df)\n",
        "df_scaled = pd.DataFrame(x_scaled)\n",
        "df_scaled.columns = ['home_goals', 'away_goals', 'season', 'offset']\n",
        "df_scaled.head()"
      ],
      "metadata": {
        "id": "mI2wCe3fbVe1",
        "outputId": "f4dc8c53-84f2-4bc0-c52b-01b0ceeafcd0",
        "colab": {
          "base_uri": "https://localhost:8080/",
          "height": 389
        }
      },
      "execution_count": 208,
      "outputs": [
        {
          "output_type": "error",
          "ename": "ValueError",
          "evalue": "ignored",
          "traceback": [
            "\u001b[0;31m---------------------------------------------------------------------------\u001b[0m",
            "\u001b[0;31mValueError\u001b[0m                                Traceback (most recent call last)",
            "\u001b[0;32m<ipython-input-208-a76b101df05e>\u001b[0m in \u001b[0;36m<module>\u001b[0;34m()\u001b[0m\n\u001b[1;32m      3\u001b[0m \u001b[0;34m\u001b[0m\u001b[0m\n\u001b[1;32m      4\u001b[0m \u001b[0mmin_max_scaler\u001b[0m \u001b[0;34m=\u001b[0m \u001b[0mpreprocessing\u001b[0m\u001b[0;34m.\u001b[0m\u001b[0mMinMaxScaler\u001b[0m\u001b[0;34m(\u001b[0m\u001b[0;34m)\u001b[0m\u001b[0;34m\u001b[0m\u001b[0;34m\u001b[0m\u001b[0m\n\u001b[0;32m----> 5\u001b[0;31m \u001b[0mx_scaled\u001b[0m \u001b[0;34m=\u001b[0m \u001b[0mmin_max_scaler\u001b[0m\u001b[0;34m.\u001b[0m\u001b[0mfit_transform\u001b[0m\u001b[0;34m(\u001b[0m\u001b[0mdf\u001b[0m\u001b[0;34m)\u001b[0m\u001b[0;34m\u001b[0m\u001b[0;34m\u001b[0m\u001b[0m\n\u001b[0m\u001b[1;32m      6\u001b[0m \u001b[0mdf_scaled\u001b[0m \u001b[0;34m=\u001b[0m \u001b[0mpd\u001b[0m\u001b[0;34m.\u001b[0m\u001b[0mDataFrame\u001b[0m\u001b[0;34m(\u001b[0m\u001b[0mx_scaled\u001b[0m\u001b[0;34m)\u001b[0m\u001b[0;34m\u001b[0m\u001b[0;34m\u001b[0m\u001b[0m\n\u001b[1;32m      7\u001b[0m \u001b[0mdf_scaled\u001b[0m\u001b[0;34m.\u001b[0m\u001b[0mcolumns\u001b[0m \u001b[0;34m=\u001b[0m \u001b[0;34m[\u001b[0m\u001b[0;34m'home_goals'\u001b[0m\u001b[0;34m,\u001b[0m \u001b[0;34m'away_goals'\u001b[0m\u001b[0;34m,\u001b[0m \u001b[0;34m'season'\u001b[0m\u001b[0;34m,\u001b[0m \u001b[0;34m'offset'\u001b[0m\u001b[0;34m]\u001b[0m\u001b[0;34m\u001b[0m\u001b[0;34m\u001b[0m\u001b[0m\n",
            "\u001b[0;32m/usr/local/lib/python3.7/dist-packages/sklearn/base.py\u001b[0m in \u001b[0;36mfit_transform\u001b[0;34m(self, X, y, **fit_params)\u001b[0m\n\u001b[1;32m    850\u001b[0m         \u001b[0;32mif\u001b[0m \u001b[0my\u001b[0m \u001b[0;32mis\u001b[0m \u001b[0;32mNone\u001b[0m\u001b[0;34m:\u001b[0m\u001b[0;34m\u001b[0m\u001b[0;34m\u001b[0m\u001b[0m\n\u001b[1;32m    851\u001b[0m             \u001b[0;31m# fit method of arity 1 (unsupervised transformation)\u001b[0m\u001b[0;34m\u001b[0m\u001b[0;34m\u001b[0m\u001b[0;34m\u001b[0m\u001b[0m\n\u001b[0;32m--> 852\u001b[0;31m             \u001b[0;32mreturn\u001b[0m \u001b[0mself\u001b[0m\u001b[0;34m.\u001b[0m\u001b[0mfit\u001b[0m\u001b[0;34m(\u001b[0m\u001b[0mX\u001b[0m\u001b[0;34m,\u001b[0m \u001b[0;34m**\u001b[0m\u001b[0mfit_params\u001b[0m\u001b[0;34m)\u001b[0m\u001b[0;34m.\u001b[0m\u001b[0mtransform\u001b[0m\u001b[0;34m(\u001b[0m\u001b[0mX\u001b[0m\u001b[0;34m)\u001b[0m\u001b[0;34m\u001b[0m\u001b[0;34m\u001b[0m\u001b[0m\n\u001b[0m\u001b[1;32m    853\u001b[0m         \u001b[0;32melse\u001b[0m\u001b[0;34m:\u001b[0m\u001b[0;34m\u001b[0m\u001b[0;34m\u001b[0m\u001b[0m\n\u001b[1;32m    854\u001b[0m             \u001b[0;31m# fit method of arity 2 (supervised transformation)\u001b[0m\u001b[0;34m\u001b[0m\u001b[0;34m\u001b[0m\u001b[0;34m\u001b[0m\u001b[0m\n",
            "\u001b[0;32m/usr/local/lib/python3.7/dist-packages/sklearn/preprocessing/_data.py\u001b[0m in \u001b[0;36mfit\u001b[0;34m(self, X, y)\u001b[0m\n\u001b[1;32m    414\u001b[0m         \u001b[0;31m# Reset internal state before fitting\u001b[0m\u001b[0;34m\u001b[0m\u001b[0;34m\u001b[0m\u001b[0;34m\u001b[0m\u001b[0m\n\u001b[1;32m    415\u001b[0m         \u001b[0mself\u001b[0m\u001b[0;34m.\u001b[0m\u001b[0m_reset\u001b[0m\u001b[0;34m(\u001b[0m\u001b[0;34m)\u001b[0m\u001b[0;34m\u001b[0m\u001b[0;34m\u001b[0m\u001b[0m\n\u001b[0;32m--> 416\u001b[0;31m         \u001b[0;32mreturn\u001b[0m \u001b[0mself\u001b[0m\u001b[0;34m.\u001b[0m\u001b[0mpartial_fit\u001b[0m\u001b[0;34m(\u001b[0m\u001b[0mX\u001b[0m\u001b[0;34m,\u001b[0m \u001b[0my\u001b[0m\u001b[0;34m)\u001b[0m\u001b[0;34m\u001b[0m\u001b[0;34m\u001b[0m\u001b[0m\n\u001b[0m\u001b[1;32m    417\u001b[0m \u001b[0;34m\u001b[0m\u001b[0m\n\u001b[1;32m    418\u001b[0m     \u001b[0;32mdef\u001b[0m \u001b[0mpartial_fit\u001b[0m\u001b[0;34m(\u001b[0m\u001b[0mself\u001b[0m\u001b[0;34m,\u001b[0m \u001b[0mX\u001b[0m\u001b[0;34m,\u001b[0m \u001b[0my\u001b[0m\u001b[0;34m=\u001b[0m\u001b[0;32mNone\u001b[0m\u001b[0;34m)\u001b[0m\u001b[0;34m:\u001b[0m\u001b[0;34m\u001b[0m\u001b[0;34m\u001b[0m\u001b[0m\n",
            "\u001b[0;32m/usr/local/lib/python3.7/dist-packages/sklearn/preprocessing/_data.py\u001b[0m in \u001b[0;36mpartial_fit\u001b[0;34m(self, X, y)\u001b[0m\n\u001b[1;32m    456\u001b[0m             \u001b[0mestimator\u001b[0m\u001b[0;34m=\u001b[0m\u001b[0mself\u001b[0m\u001b[0;34m,\u001b[0m\u001b[0;34m\u001b[0m\u001b[0;34m\u001b[0m\u001b[0m\n\u001b[1;32m    457\u001b[0m             \u001b[0mdtype\u001b[0m\u001b[0;34m=\u001b[0m\u001b[0mFLOAT_DTYPES\u001b[0m\u001b[0;34m,\u001b[0m\u001b[0;34m\u001b[0m\u001b[0;34m\u001b[0m\u001b[0m\n\u001b[0;32m--> 458\u001b[0;31m             \u001b[0mforce_all_finite\u001b[0m\u001b[0;34m=\u001b[0m\u001b[0;34m\"allow-nan\"\u001b[0m\u001b[0;34m,\u001b[0m\u001b[0;34m\u001b[0m\u001b[0;34m\u001b[0m\u001b[0m\n\u001b[0m\u001b[1;32m    459\u001b[0m         )\n\u001b[1;32m    460\u001b[0m \u001b[0;34m\u001b[0m\u001b[0m\n",
            "\u001b[0;32m/usr/local/lib/python3.7/dist-packages/sklearn/base.py\u001b[0m in \u001b[0;36m_validate_data\u001b[0;34m(self, X, y, reset, validate_separately, **check_params)\u001b[0m\n\u001b[1;32m    564\u001b[0m             \u001b[0;32mraise\u001b[0m \u001b[0mValueError\u001b[0m\u001b[0;34m(\u001b[0m\u001b[0;34m\"Validation should be done on X, y or both.\"\u001b[0m\u001b[0;34m)\u001b[0m\u001b[0;34m\u001b[0m\u001b[0;34m\u001b[0m\u001b[0m\n\u001b[1;32m    565\u001b[0m         \u001b[0;32melif\u001b[0m \u001b[0;32mnot\u001b[0m \u001b[0mno_val_X\u001b[0m \u001b[0;32mand\u001b[0m \u001b[0mno_val_y\u001b[0m\u001b[0;34m:\u001b[0m\u001b[0;34m\u001b[0m\u001b[0;34m\u001b[0m\u001b[0m\n\u001b[0;32m--> 566\u001b[0;31m             \u001b[0mX\u001b[0m \u001b[0;34m=\u001b[0m \u001b[0mcheck_array\u001b[0m\u001b[0;34m(\u001b[0m\u001b[0mX\u001b[0m\u001b[0;34m,\u001b[0m \u001b[0;34m**\u001b[0m\u001b[0mcheck_params\u001b[0m\u001b[0;34m)\u001b[0m\u001b[0;34m\u001b[0m\u001b[0;34m\u001b[0m\u001b[0m\n\u001b[0m\u001b[1;32m    567\u001b[0m             \u001b[0mout\u001b[0m \u001b[0;34m=\u001b[0m \u001b[0mX\u001b[0m\u001b[0;34m\u001b[0m\u001b[0;34m\u001b[0m\u001b[0m\n\u001b[1;32m    568\u001b[0m         \u001b[0;32melif\u001b[0m \u001b[0mno_val_X\u001b[0m \u001b[0;32mand\u001b[0m \u001b[0;32mnot\u001b[0m \u001b[0mno_val_y\u001b[0m\u001b[0;34m:\u001b[0m\u001b[0;34m\u001b[0m\u001b[0;34m\u001b[0m\u001b[0m\n",
            "\u001b[0;32m/usr/local/lib/python3.7/dist-packages/sklearn/utils/validation.py\u001b[0m in \u001b[0;36mcheck_array\u001b[0;34m(array, accept_sparse, accept_large_sparse, dtype, order, copy, force_all_finite, ensure_2d, allow_nd, ensure_min_samples, ensure_min_features, estimator)\u001b[0m\n\u001b[1;32m    744\u001b[0m                     \u001b[0marray\u001b[0m \u001b[0;34m=\u001b[0m \u001b[0marray\u001b[0m\u001b[0;34m.\u001b[0m\u001b[0mastype\u001b[0m\u001b[0;34m(\u001b[0m\u001b[0mdtype\u001b[0m\u001b[0;34m,\u001b[0m \u001b[0mcasting\u001b[0m\u001b[0;34m=\u001b[0m\u001b[0;34m\"unsafe\"\u001b[0m\u001b[0;34m,\u001b[0m \u001b[0mcopy\u001b[0m\u001b[0;34m=\u001b[0m\u001b[0;32mFalse\u001b[0m\u001b[0;34m)\u001b[0m\u001b[0;34m\u001b[0m\u001b[0;34m\u001b[0m\u001b[0m\n\u001b[1;32m    745\u001b[0m                 \u001b[0;32melse\u001b[0m\u001b[0;34m:\u001b[0m\u001b[0;34m\u001b[0m\u001b[0;34m\u001b[0m\u001b[0m\n\u001b[0;32m--> 746\u001b[0;31m                     \u001b[0marray\u001b[0m \u001b[0;34m=\u001b[0m \u001b[0mnp\u001b[0m\u001b[0;34m.\u001b[0m\u001b[0masarray\u001b[0m\u001b[0;34m(\u001b[0m\u001b[0marray\u001b[0m\u001b[0;34m,\u001b[0m \u001b[0morder\u001b[0m\u001b[0;34m=\u001b[0m\u001b[0morder\u001b[0m\u001b[0;34m,\u001b[0m \u001b[0mdtype\u001b[0m\u001b[0;34m=\u001b[0m\u001b[0mdtype\u001b[0m\u001b[0;34m)\u001b[0m\u001b[0;34m\u001b[0m\u001b[0;34m\u001b[0m\u001b[0m\n\u001b[0m\u001b[1;32m    747\u001b[0m             \u001b[0;32mexcept\u001b[0m \u001b[0mComplexWarning\u001b[0m \u001b[0;32mas\u001b[0m \u001b[0mcomplex_warning\u001b[0m\u001b[0;34m:\u001b[0m\u001b[0;34m\u001b[0m\u001b[0;34m\u001b[0m\u001b[0m\n\u001b[1;32m    748\u001b[0m                 raise ValueError(\n",
            "\u001b[0;32m/usr/local/lib/python3.7/dist-packages/pandas/core/generic.py\u001b[0m in \u001b[0;36m__array__\u001b[0;34m(self, dtype)\u001b[0m\n\u001b[1;32m   1991\u001b[0m \u001b[0;34m\u001b[0m\u001b[0m\n\u001b[1;32m   1992\u001b[0m     \u001b[0;32mdef\u001b[0m \u001b[0m__array__\u001b[0m\u001b[0;34m(\u001b[0m\u001b[0mself\u001b[0m\u001b[0;34m,\u001b[0m \u001b[0mdtype\u001b[0m\u001b[0;34m:\u001b[0m \u001b[0mNpDtype\u001b[0m \u001b[0;34m|\u001b[0m \u001b[0;32mNone\u001b[0m \u001b[0;34m=\u001b[0m \u001b[0;32mNone\u001b[0m\u001b[0;34m)\u001b[0m \u001b[0;34m->\u001b[0m \u001b[0mnp\u001b[0m\u001b[0;34m.\u001b[0m\u001b[0mndarray\u001b[0m\u001b[0;34m:\u001b[0m\u001b[0;34m\u001b[0m\u001b[0;34m\u001b[0m\u001b[0m\n\u001b[0;32m-> 1993\u001b[0;31m         \u001b[0;32mreturn\u001b[0m \u001b[0mnp\u001b[0m\u001b[0;34m.\u001b[0m\u001b[0masarray\u001b[0m\u001b[0;34m(\u001b[0m\u001b[0mself\u001b[0m\u001b[0;34m.\u001b[0m\u001b[0m_values\u001b[0m\u001b[0;34m,\u001b[0m \u001b[0mdtype\u001b[0m\u001b[0;34m=\u001b[0m\u001b[0mdtype\u001b[0m\u001b[0;34m)\u001b[0m\u001b[0;34m\u001b[0m\u001b[0;34m\u001b[0m\u001b[0m\n\u001b[0m\u001b[1;32m   1994\u001b[0m \u001b[0;34m\u001b[0m\u001b[0m\n\u001b[1;32m   1995\u001b[0m     def __array_wrap__(\n",
            "\u001b[0;31mValueError\u001b[0m: could not convert string to float: 'P'"
          ]
        }
      ]
    },
    {
      "cell_type": "code",
      "source": [
        "normalized_df = (df-df.mean())/df.std()\n",
        "for col in df:\n",
        "    sns.kdeplot(normalized_df[col], shade=True)"
      ],
      "metadata": {
        "id": "n8j1pNOFdmvv",
        "outputId": "a9cb2ec1-abad-4010-b0ef-602939807a2a",
        "colab": {
          "base_uri": "https://localhost:8080/",
          "height": 334
        }
      },
      "execution_count": 215,
      "outputs": [
        {
          "output_type": "stream",
          "name": "stderr",
          "text": [
            "/usr/local/lib/python3.7/dist-packages/ipykernel_launcher.py:1: FutureWarning: Dropping of nuisance columns in DataFrame reductions (with 'numeric_only=None') is deprecated; in a future version this will raise TypeError.  Select only valid columns before calling the reduction.\n",
            "  \"\"\"Entry point for launching an IPython kernel.\n"
          ]
        },
        {
          "output_type": "display_data",
          "data": {
            "text/plain": [
              "<Figure size 432x288 with 1 Axes>"
            ],
            "image/png": "[encoded data removed]"
          },
          "metadata": {
            "needs_background": "light"
          }
        }
      ]
    },
    {
      "cell_type": "markdown",
      "source": [
        "The last conclusion I am going to make is from the chart above normalizing the data. Most of the data is centered around the 1 due to the unwanted data in the set. The low ends near the 5 and -3 just show the difference in goals between the home and away teams which is clearly close on average.\n",
        "\n",
        "From my research I could determine that home advantage does play a great impact in most playoff games. The higher amount of games won by the away teams in a shootout is not relevant to my question because in the playoffs no teams ever partake in a shootout. This shows even more that home advantage is true because teams will try more in playoffs so with away teams only winning more in shootouts,they do not win much in playoffs."
      ],
      "metadata": {
        "id": "1xRic1EjeYny"
      }
    }
  ]
}